{
 "cells": [
  {
   "cell_type": "code",
   "execution_count": 2,
   "id": "988d0494",
   "metadata": {},
   "outputs": [],
   "source": [
    "from datetime import datetime\n",
    "import math\n",
    "import matplotlib.pyplot as plt\n",
    "import mplfinance as mpf\n",
    "import numpy as np\n",
    "import os\n",
    "import pandas as pd\n",
    "from sklearn.preprocessing import MinMaxScaler\n",
    "from tensorflow import keras\n",
    "import tensorflow as tf\n",
    "import time\n",
    "import pandas as pd\n",
    "#import talib as ta\n",
    "\n",
    "from Pytrader_API_V2_08 import Pytrader_API\n",
    "from utils.LogHelper import Logger # for logging events"
   ]
  },
  {
   "cell_type": "code",
   "execution_count": 172,
   "id": "e2abbc91",
   "metadata": {
    "scrolled": false
   },
   "outputs": [
    {
     "name": "stdout",
     "output_type": "stream",
     "text": [
      "               high     open      low    close  volume\n",
      "date                                                  \n",
      "1388620800  1.06475  1.06396  1.06345  1.06381    4702\n",
      "1388635200  1.06458  1.06381  1.06259  1.06282    5617\n",
      "1388649600  1.06573  1.06283  1.06277  1.06366    4198\n",
      "1388664000  1.06614  1.06366  1.06235  1.06269    4094\n",
      "1388678400  1.06437  1.06268  1.05884  1.06388    6994\n",
      "...             ...      ...      ...      ...     ...\n",
      "1641974400  1.25758  1.25532  1.25460  1.25472    9848\n",
      "1641988800  1.25567  1.25472  1.25128  1.25172   14852\n",
      "1642003200  1.25327  1.25172  1.24943  1.24975   22051\n",
      "1642017600  1.25093  1.24975  1.24967  1.25051   11471\n",
      "1642032000  1.25045  1.25045  1.24990  1.25018      98\n",
      "\n",
      "[12751 rows x 5 columns]\n"
     ]
    }
   ],
   "source": [
    "log = Logger()\n",
    "log.configure()\n",
    "\n",
    "# settings\n",
    "timeframeM15 = 'M15'\n",
    "timeframeH4 = 'H4'\n",
    "instrument = 'USDCAD'\n",
    "server_IP = '127.0.0.1'\n",
    "server_port = 1110                                              # check port number                \n",
    "\n",
    "brokerInstrumentsLookup = {\n",
    "    'USDCAD': 'USDCAD'}\n",
    "\n",
    "# Define pytrader API\n",
    "MT = Pytrader_API()\n",
    "\n",
    "connection = MT.Connect(server_IP, server_port, brokerInstrumentsLookup)\n",
    "\n",
    "if (connection == True):\n",
    "    log.debug('Strategy started')\n",
    "    \n",
    "    candlesb = MT.Get_last_x_bars_from_now(instrument=instrument, timeframe=MT.get_timeframe_value(timeframeH4), nbrofbars=50000)\n",
    "candles= np.array(candlesb)\n",
    "candles= pd.DataFrame(candles, columns=['date','high','open','low','close','volume'])\n",
    "#candles=[]\n",
    "\n",
    "\n",
    "#for n in range(22):\n",
    "#    bar1={'date':candlesb[n][0], 'high':candlesb[n][1],'open':candlesb[n][2],'low':candlesb[n][3],'close':candlesb[n][4],'volume':candlesb[n][5]}\n",
    "#    print(bar1)\n",
    "#    candles.append(bar1)\n",
    "#candles=[candles]  \n",
    "#candles[0] = candlesb['date']\n",
    "#candles[1] = candlesb['high']\n",
    "#candles[2] = candlesb['open']\n",
    "#candles[3] = candlesb['low']\n",
    "#candles[4] = candlesb['close']\n",
    "#candles[5] = candlesb['volume']\n",
    "\n",
    "#pd.to_datetime(candles['date'])\n",
    "candles.set_index('date', inplace=True)\n",
    "print(candles)"
   ]
  },
  {
   "cell_type": "code",
   "execution_count": 173,
   "id": "c4135641",
   "metadata": {},
   "outputs": [
    {
     "name": "stdout",
     "output_type": "stream",
     "text": [
      "date\n",
      "1388620800    1.06381\n",
      "1388635200    1.06282\n",
      "1388649600    1.06366\n",
      "1388664000    1.06269\n",
      "1388678400    1.06388\n",
      "               ...   \n",
      "1641974400    1.25472\n",
      "1641988800    1.25172\n",
      "1642003200    1.24975\n",
      "1642017600    1.25051\n",
      "1642032000    1.25018\n",
      "Name: close, Length: 12751, dtype: float64\n",
      "               high     open      low    close  volume      mav1      mav2  \\\n",
      "date                                                                         \n",
      "1388620800  1.06475  1.06396  1.06345  1.06381    4702       NaN       NaN   \n",
      "1388635200  1.06458  1.06381  1.06259  1.06282    5617       NaN       NaN   \n",
      "1388649600  1.06573  1.06283  1.06277  1.06366    4198       NaN       NaN   \n",
      "1388664000  1.06614  1.06366  1.06235  1.06269    4094       NaN       NaN   \n",
      "1388678400  1.06437  1.06268  1.05884  1.06388    6994  1.063372       NaN   \n",
      "...             ...      ...      ...      ...     ...       ...       ...   \n",
      "1641974400  1.25758  1.25532  1.25460  1.25472    9848  1.256502  1.261015   \n",
      "1641988800  1.25567  1.25472  1.25128  1.25172   14852  1.255110  1.259451   \n",
      "1642003200  1.25327  1.25172  1.24943  1.24975   22051  1.253634  1.257766   \n",
      "1642017600  1.25093  1.24975  1.24967  1.25051   11471  1.252404  1.256333   \n",
      "1642032000  1.25045  1.25045  1.24990  1.25018      98  1.251376  1.254953   \n",
      "\n",
      "                mav3  \n",
      "date                  \n",
      "1388620800       NaN  \n",
      "1388635200       NaN  \n",
      "1388649600       NaN  \n",
      "1388664000       NaN  \n",
      "1388678400       NaN  \n",
      "...              ...  \n",
      "1641974400  1.265956  \n",
      "1641988800  1.264888  \n",
      "1642003200  1.263827  \n",
      "1642017600  1.262977  \n",
      "1642032000  1.262086  \n",
      "\n",
      "[12751 rows x 8 columns]\n"
     ]
    }
   ],
   "source": [
    "#mav\n",
    "mean = candles['close']\n",
    "\n",
    "print(mean)\n",
    "\n",
    "mav1 = mean.rolling(window=5).mean()\n",
    "mav2 = mean.rolling(window=10).mean()\n",
    "mav3 = mean.rolling(window=25).mean()\n",
    "\n",
    "candles['mav1'] = mav1 \n",
    "candles['mav2'] = mav2 \n",
    "candles['mav3'] = mav3\n",
    "\n",
    "print(candles)\n"
   ]
  },
  {
   "cell_type": "code",
   "execution_count": 174,
   "id": "57c9b21d",
   "metadata": {},
   "outputs": [
    {
     "name": "stdout",
     "output_type": "stream",
     "text": [
      "               high     open      low    close  volume      mav1      mav2  \\\n",
      "date                                                                         \n",
      "1388620800  1.06475  1.06396  1.06345  1.06381    4702       NaN       NaN   \n",
      "1388635200  1.06458  1.06381  1.06259  1.06282    5617       NaN       NaN   \n",
      "1388649600  1.06573  1.06283  1.06277  1.06366    4198       NaN       NaN   \n",
      "1388664000  1.06614  1.06366  1.06235  1.06269    4094       NaN       NaN   \n",
      "1388678400  1.06437  1.06268  1.05884  1.06388    6994  1.063372       NaN   \n",
      "...             ...      ...      ...      ...     ...       ...       ...   \n",
      "1641974400  1.25758  1.25532  1.25460  1.25472    9848  1.256502  1.261015   \n",
      "1641988800  1.25567  1.25472  1.25128  1.25172   14852  1.255110  1.259451   \n",
      "1642003200  1.25327  1.25172  1.24943  1.24975   22051  1.253634  1.257766   \n",
      "1642017600  1.25093  1.24975  1.24967  1.25051   11471  1.252404  1.256333   \n",
      "1642032000  1.25045  1.25045  1.24990  1.25018      98  1.251376  1.254953   \n",
      "\n",
      "                mav3    DiffBB  \n",
      "date                            \n",
      "1388620800       NaN       NaN  \n",
      "1388635200       NaN       NaN  \n",
      "1388649600       NaN       NaN  \n",
      "1388664000       NaN       NaN  \n",
      "1388678400       NaN       NaN  \n",
      "...              ...       ...  \n",
      "1641974400  1.265956  0.053755  \n",
      "1641988800  1.264888  0.058127  \n",
      "1642003200  1.263827  0.062839  \n",
      "1642017600  1.262977  0.065093  \n",
      "1642032000  1.262086  0.066354  \n",
      "\n",
      "[12751 rows x 9 columns]\n"
     ]
    }
   ],
   "source": [
    "#bollinger\n",
    "mean = candles['close']\n",
    "mean = mean.rolling(window=10).mean()\n",
    "std_dev = candles['close']\n",
    "std_dev = std_dev.rolling(window=30).std()\n",
    "UBB = mean + (4 * std_dev)\n",
    "LBB = mean - (4 * std_dev)\n",
    "DiffBB = UBB - LBB\n",
    "candles['DiffBB']=DiffBB\n",
    "print(candles)"
   ]
  },
  {
   "cell_type": "code",
   "execution_count": 175,
   "id": "d82fb74d",
   "metadata": {},
   "outputs": [],
   "source": [
    "#normalizer\n",
    "scaler = MinMaxScaler(feature_range=(0.2, 0.8))\n",
    "candles_norm = scaler.fit_transform(candles)"
   ]
  },
  {
   "cell_type": "code",
   "execution_count": 176,
   "id": "4ac45bb7",
   "metadata": {},
   "outputs": [
    {
     "name": "stdout",
     "output_type": "stream",
     "text": [
      "12721\n"
     ]
    }
   ],
   "source": [
    "#rimozione nan def\n",
    "candles_norm = candles_norm[30:]\n",
    "print(len(candles_norm))\n"
   ]
  },
  {
   "cell_type": "code",
   "execution_count": 321,
   "id": "721fa112",
   "metadata": {},
   "outputs": [
    {
     "name": "stdout",
     "output_type": "stream",
     "text": [
      "candles:\n"
     ]
    },
    {
     "name": "stderr",
     "output_type": "stream",
     "text": [
      "IOPub data rate exceeded.\n",
      "The notebook server will temporarily stop sending output\n",
      "to the client in order to avoid crashing it.\n",
      "To change this limit, set the config variable\n",
      "`--NotebookApp.iopub_data_rate_limit`.\n",
      "\n",
      "Current values:\n",
      "NotebookApp.iopub_data_rate_limit=1000000.0 (bytes/sec)\n",
      "NotebookApp.rate_limit_window=3.0 (secs)\n",
      "\n"
     ]
    }
   ],
   "source": [
    "#dataset building\n",
    "x_candles = []\n",
    "x_time = []\n",
    "y = []\n",
    "\n",
    "step_back = 96\n",
    "\n",
    "for i in range(len(candles_norm) - step_back):\n",
    "    example_candles = []\n",
    "    example_time = []\n",
    "    \n",
    "    for o in range(0, step_back):\n",
    "        example_candles.append(candles_norm[i + o])\n",
    "        t = candles.iloc[30 + i + o].name\n",
    "        example_time.append(t)\n",
    "    \n",
    "    x_candles.append(example_candles)\n",
    "    x_time.append(example_time)\n",
    "    y.append(candles_norm[i+step_back])\n",
    "print('candles:')\n",
    "print(x_candles)\n",
    "print(len(x_candles))\n",
    "#print('time:')\n",
    "#print(x_time)"
   ]
  },
  {
   "cell_type": "code",
   "execution_count": 179,
   "id": "6f978c65",
   "metadata": {
    "scrolled": false
   },
   "outputs": [
    {
     "name": "stdout",
     "output_type": "stream",
     "text": [
      "12625\n",
      "(11362, 9)\n",
      "x_train_candles\n",
      "(11362, 96, 9)\n",
      "x_train_time\n",
      "(11362, 96)\n",
      "x_test_candles\n",
      "(1263, 96, 9)\n",
      "x_test_time\n",
      "(1263, 96)\n"
     ]
    }
   ],
   "source": [
    "print(len(x_candles))\n",
    "split_point = int(len(x_candles) * 0.9)\n",
    "\n",
    "x_train_candles = np.asarray(x_candles[:split_point], dtype=np.float32)\n",
    "x_train_time = np.asarray(x_time[:split_point], dtype=np.float32)\n",
    "y_train = np.asarray(y[:split_point], dtype=np.float32)\n",
    "print(y_train.shape)\n",
    "\n",
    "x_test_candles = np.asarray(x_candles[split_point:], dtype=np.float32)\n",
    "x_test_time = np.asarray(x_time[split_point:], dtype=np.float32)\n",
    "y_test = np.asarray(y[split_point:], dtype=np.float32)\n",
    "\n",
    "last_point= (int(len(x_test_candles))-1)\n",
    "x_trial_candles =x_test_candles[last_point:]\n",
    "x_trial_time = x_test_time[last_point:]\n",
    "print('x_train_candles')\n",
    "print(x_train_candles.shape)\n",
    "print('x_train_time')\n",
    "print(x_train_time.shape)\n",
    "print('x_test_candles')\n",
    "print(x_test_candles.shape)\n",
    "print('x_test_time')\n",
    "print(x_test_time.shape)\n"
   ]
  },
  {
   "cell_type": "code",
   "execution_count": 180,
   "id": "535d9a96",
   "metadata": {},
   "outputs": [
    {
     "name": "stdout",
     "output_type": "stream",
     "text": [
      "KerasTensor(type_spec=TensorSpec(shape=(None, 96, 9), dtype=tf.float32, name='Candles'), name='Candles', description=\"created by layer 'Candles'\")\n",
      "KerasTensor(type_spec=TensorSpec(shape=(None, 96, 1), dtype=tf.float32, name='Time'), name='Time', description=\"created by layer 'Time'\")\n",
      "Model: \"model_6\"\n",
      "__________________________________________________________________________________________________\n",
      " Layer (type)                   Output Shape         Param #     Connected to                     \n",
      "==================================================================================================\n",
      " Candles (InputLayer)           [(None, 96, 9)]      0           []                               \n",
      "                                                                                                  \n",
      " conv1d_60 (Conv1D)             (None, 96, 32)       896         ['Candles[0][0]']                \n",
      "                                                                                                  \n",
      " conv1d_62 (Conv1D)             (None, 96, 32)       2048        ['Candles[0][0]']                \n",
      "                                                                                                  \n",
      " conv1d_64 (Conv1D)             (None, 96, 32)       3776        ['Candles[0][0]']                \n",
      "                                                                                                  \n",
      " average_pooling1d_60 (AverageP  (None, 48, 32)      0           ['conv1d_60[0][0]']              \n",
      " ooling1D)                                                                                        \n",
      "                                                                                                  \n",
      " average_pooling1d_62 (AverageP  (None, 48, 32)      0           ['conv1d_62[0][0]']              \n",
      " ooling1D)                                                                                        \n",
      "                                                                                                  \n",
      " average_pooling1d_64 (AverageP  (None, 48, 32)      0           ['conv1d_64[0][0]']              \n",
      " ooling1D)                                                                                        \n",
      "                                                                                                  \n",
      " conv1d_61 (Conv1D)             (None, 48, 64)       6208        ['average_pooling1d_60[0][0]']   \n",
      "                                                                                                  \n",
      " conv1d_63 (Conv1D)             (None, 48, 64)       14400       ['average_pooling1d_62[0][0]']   \n",
      "                                                                                                  \n",
      " conv1d_65 (Conv1D)             (None, 48, 64)       26688       ['average_pooling1d_64[0][0]']   \n",
      "                                                                                                  \n",
      " average_pooling1d_61 (AverageP  (None, 24, 64)      0           ['conv1d_61[0][0]']              \n",
      " ooling1D)                                                                                        \n",
      "                                                                                                  \n",
      " average_pooling1d_63 (AverageP  (None, 24, 64)      0           ['conv1d_63[0][0]']              \n",
      " ooling1D)                                                                                        \n",
      "                                                                                                  \n",
      " average_pooling1d_65 (AverageP  (None, 24, 64)      0           ['conv1d_65[0][0]']              \n",
      " ooling1D)                                                                                        \n",
      "                                                                                                  \n",
      " Time (InputLayer)              [(None, 96, 1)]      0           []                               \n",
      "                                                                                                  \n",
      " lstm_76 (LSTM)                 (None, 24, 64)       33024       ['average_pooling1d_61[0][0]']   \n",
      "                                                                                                  \n",
      " lstm_78 (LSTM)                 (None, 24, 64)       33024       ['average_pooling1d_63[0][0]']   \n",
      "                                                                                                  \n",
      " lstm_80 (LSTM)                 (None, 24, 64)       33024       ['average_pooling1d_65[0][0]']   \n",
      "                                                                                                  \n",
      " lstm_82 (LSTM)                 (None, 96, 8)        320         ['Time[0][0]']                   \n",
      "                                                                                                  \n",
      " lstm_77 (LSTM)                 (None, 64)           33024       ['lstm_76[0][0]']                \n",
      "                                                                                                  \n",
      " lstm_79 (LSTM)                 (None, 64)           33024       ['lstm_78[0][0]']                \n",
      "                                                                                                  \n",
      " lstm_81 (LSTM)                 (None, 64)           33024       ['lstm_80[0][0]']                \n",
      "                                                                                                  \n",
      " lstm_83 (LSTM)                 (None, 8)            544         ['lstm_82[0][0]']                \n",
      "                                                                                                  \n",
      " concatenate_6 (Concatenate)    (None, 200)          0           ['lstm_77[0][0]',                \n",
      "                                                                  'lstm_79[0][0]',                \n",
      "                                                                  'lstm_81[0][0]',                \n",
      "                                                                  'lstm_83[0][0]']                \n",
      "                                                                                                  \n",
      " dense_18 (Dense)               (None, 128)          25728       ['concatenate_6[0][0]']          \n",
      "                                                                                                  \n",
      " dense_19 (Dense)               (None, 128)          16512       ['dense_18[0][0]']               \n",
      "                                                                                                  \n",
      " dense_20 (Dense)               (None, 9)            1161        ['dense_19[0][0]']               \n",
      "                                                                                                  \n",
      "==================================================================================================\n",
      "Total params: 296,425\n",
      "Trainable params: 296,425\n",
      "Non-trainable params: 0\n",
      "__________________________________________________________________________________________________\n",
      "('You must install pydot (`pip install pydot`) and install graphviz (see instructions at https://graphviz.gitlab.io/download/) ', 'for plot_model/model_to_dot to work.')\n"
     ]
    }
   ],
   "source": [
    "def get_conv_lstm_block(input, kernel_size_1, kernel_size_2):\n",
    "    conv_1 = keras.layers.Conv1D(\n",
    "        filters=32,\n",
    "        kernel_size=kernel_size_1,\n",
    "        activation=keras.activations.swish,\n",
    "        padding='same'\n",
    "    )(input)\n",
    "    average_1 = keras.layers.AveragePooling1D()(conv_1)\n",
    "    \n",
    "    conv_2 = keras.layers.Conv1D(\n",
    "        filters=64,\n",
    "        kernel_size=kernel_size_2,\n",
    "        activation=keras.activations.swish,\n",
    "        padding='same'\n",
    "    )(average_1)\n",
    "    average_2 = keras.layers.AveragePooling1D()(conv_2)\n",
    "    \n",
    "    lstm_1 = keras.layers.LSTM(units=64, return_sequences=True)(average_2)\n",
    "    lstm_2 = keras.layers.LSTM(units=64)(lstm_1)\n",
    "    \n",
    "    return lstm_2\n",
    "\n",
    "\n",
    "input_candles = keras.Input(shape=(x_train_candles.shape[1], x_train_candles.shape[2]), name='Candles')\n",
    "print(input_candles)\n",
    "input_time = keras.Input(shape= (96, 1), name='Time')\n",
    "print(input_time)\n",
    "conv_1 = get_conv_lstm_block(input_candles, kernel_size_1=3, kernel_size_2=3)\n",
    "conv_2 = get_conv_lstm_block(input_candles, kernel_size_1=7, kernel_size_2=7)\n",
    "conv_3 = get_conv_lstm_block(input_candles, kernel_size_1=13, kernel_size_2=13)\n",
    "\n",
    "lstm_time_1 = keras.layers.LSTM(units=8, return_sequences=True)(input_time)\n",
    "lstm_time_2 = keras.layers.LSTM(units=8)(lstm_time_1)\n",
    "\n",
    "conc = keras.layers.Concatenate(axis=-1)([conv_1, conv_2, conv_3, lstm_time_2])\n",
    "\n",
    "dense_1 = keras.layers.Dense(units=128, activation=keras.activations.swish)(conc)\n",
    "dense_2 = keras.layers.Dense(units=128, activation=keras.activations.swish)(dense_1)\n",
    "\n",
    "output = keras.layers.Dense(units=9, activation=keras.activations.linear)(dense_2)\n",
    "\n",
    "model = keras.Model(inputs=[input_candles, input_time], outputs=output)\n",
    "\n",
    "model.compile(optimizer=keras.optimizers.Adam(), loss=keras.losses.mean_absolute_error)\n",
    "\n",
    "model.summary()\n",
    "keras.utils.plot_model(model, \"conv_lstm_net.png\", show_shapes=True)"
   ]
  },
  {
   "cell_type": "code",
   "execution_count": 182,
   "id": "c58aabf7",
   "metadata": {},
   "outputs": [
    {
     "name": "stdout",
     "output_type": "stream",
     "text": [
      "Epoch 1/20\n",
      "356/356 [==============================] - 23s 65ms/step - loss: 0.0169 - val_loss: 0.0133\n",
      "Epoch 2/20\n",
      "356/356 [==============================] - 25s 69ms/step - loss: 0.0146 - val_loss: 0.0100\n",
      "Epoch 3/20\n",
      "356/356 [==============================] - 27s 76ms/step - loss: 0.0131 - val_loss: 0.0125\n",
      "Epoch 4/20\n",
      "356/356 [==============================] - 26s 73ms/step - loss: 0.0120 - val_loss: 0.0189\n",
      "Epoch 5/20\n",
      "356/356 [==============================] - 26s 73ms/step - loss: 0.0110 - val_loss: 0.0112\n",
      "Epoch 6/20\n",
      "356/356 [==============================] - 26s 74ms/step - loss: 0.0108 - val_loss: 0.0113\n",
      "Epoch 7/20\n",
      "356/356 [==============================] - 28s 78ms/step - loss: 0.0108 - val_loss: 0.0095\n",
      "Epoch 8/20\n",
      "356/356 [==============================] - 28s 80ms/step - loss: 0.0102 - val_loss: 0.0113\n",
      "Epoch 9/20\n",
      "356/356 [==============================] - 27s 77ms/step - loss: 0.0110 - val_loss: 0.0113\n",
      "Epoch 10/20\n",
      "356/356 [==============================] - 28s 79ms/step - loss: 0.0093 - val_loss: 0.0088\n",
      "Epoch 11/20\n",
      "356/356 [==============================] - 25s 69ms/step - loss: 0.0093 - val_loss: 0.0083\n",
      "Epoch 12/20\n",
      "356/356 [==============================] - 25s 69ms/step - loss: 0.0097 - val_loss: 0.0070\n",
      "Epoch 13/20\n",
      "356/356 [==============================] - 26s 73ms/step - loss: 0.0092 - val_loss: 0.0075\n",
      "Epoch 14/20\n",
      "356/356 [==============================] - 27s 76ms/step - loss: 0.0083 - val_loss: 0.0090\n",
      "Epoch 15/20\n",
      "356/356 [==============================] - 26s 73ms/step - loss: 0.0085 - val_loss: 0.0100\n",
      "Epoch 16/20\n",
      "356/356 [==============================] - 28s 78ms/step - loss: 0.0077 - val_loss: 0.0059\n",
      "Epoch 17/20\n",
      "356/356 [==============================] - 28s 78ms/step - loss: 0.0072 - val_loss: 0.0067\n",
      "Epoch 18/20\n",
      "356/356 [==============================] - 28s 78ms/step - loss: 0.0072 - val_loss: 0.0075\n",
      "Epoch 19/20\n",
      "356/356 [==============================] - 29s 82ms/step - loss: 0.0076 - val_loss: 0.0109\n",
      "Epoch 20/20\n",
      "356/356 [==============================] - 28s 78ms/step - loss: 0.0073 - val_loss: 0.0097\n"
     ]
    },
    {
     "data": {
      "text/plain": [
       "<tensorflow.python.training.tracking.util.CheckpointLoadStatus at 0x1b922f447f0>"
      ]
     },
     "execution_count": 182,
     "metadata": {},
     "output_type": "execute_result"
    }
   ],
   "source": [
    "model_checkpoint_callback = tf.keras.callbacks.ModelCheckpoint(\n",
    "    filepath='weights/weights',\n",
    "    save_weights_only=True,\n",
    "    monitor='loss',\n",
    "    mode='min',\n",
    "    save_best_only=True)\n",
    "\n",
    "history = model.fit(\n",
    "    [x_train_candles, x_train_time],\n",
    "    y_train,\n",
    "    epochs=20,\n",
    "    batch_size=32,\n",
    "    validation_data=(\n",
    "        [x_test_candles, x_test_time],\n",
    "        y_test\n",
    "    ),\n",
    "    callbacks=model_checkpoint_callback\n",
    ")\n",
    "\n",
    "model.load_weights('weights/weights')"
   ]
  },
  {
   "cell_type": "code",
   "execution_count": 183,
   "id": "d83d3335",
   "metadata": {},
   "outputs": [
    {
     "name": "stdout",
     "output_type": "stream",
     "text": [
      "[[0.28387812 0.28542188 0.28649104 ... 0.28159064 0.27362984 0.28318015]\n",
      " [0.28280085 0.28272715 0.283505   ... 0.28181034 0.27423117 0.28343916]\n",
      " [0.28160554 0.28181416 0.28457463 ... 0.2818607  0.27476147 0.28401983]\n",
      " ...\n",
      " [0.49193537 0.49057576 0.49536496 ... 0.4937391  0.48731843 0.3098284 ]\n",
      " [0.4928798  0.4924459  0.49512726 ... 0.49464846 0.4884266  0.31324118]\n",
      " [0.49043018 0.48998675 0.4935377  ... 0.49555323 0.48949957 0.31614482]]\n"
     ]
    },
    {
     "data": {
      "image/png": "[encoded data removed]",
      "text/plain": [
       "<Figure size 432x288 with 1 Axes>"
      ]
     },
     "metadata": {
      "needs_background": "light"
     },
     "output_type": "display_data"
    }
   ],
   "source": [
    "plt.plot(history.history['loss'], label='Loss')\n",
    "print(y_train)\n",
    "plt.plot(history.history['val_loss'], label='Val.Loss')\n",
    "plt.legend(loc=\"upper right\")\n",
    "plt.show()"
   ]
  },
  {
   "cell_type": "code",
   "execution_count": 224,
   "id": "25181de5",
   "metadata": {},
   "outputs": [],
   "source": [
    "def denorm(value):\n",
    "    #example = [0.5 for x in range(9)]\n",
    "    example = value #example[3] = value\n",
    "    return scaler.inverse_transform([example])#[0]#[3]"
   ]
  },
  {
   "cell_type": "code",
   "execution_count": 185,
   "id": "95dbcae2",
   "metadata": {},
   "outputs": [
    {
     "name": "stdout",
     "output_type": "stream",
     "text": [
      "[[0.4896164  0.48787135 0.4918124  ... 0.48966366 0.48367405 0.30921528]\n",
      " [0.48881757 0.4872611  0.49133456 ... 0.48998523 0.48434728 0.31337786]\n",
      " [0.48669183 0.485975   0.49092358 ... 0.49057317 0.48463863 0.31100547]\n",
      " ...\n",
      " [0.4859888  0.4841244  0.4865771  ... 0.4924646  0.50341207 0.3445231 ]\n",
      " [0.48329967 0.4824306  0.48563004 ... 0.49127537 0.50238335 0.35865912]\n",
      " [0.4805535  0.48127887 0.48592144 ... 0.49083716 0.5013377  0.36829555]]\n",
      "(1263, 9)\n",
      "[1.2554599986740946, 1.2575300092408062, 1.256749990592301, 1.2570299941727519, 1.2572300082960726, 1.2587399914616346, 1.2618300092884898, 1.2607500099354982, 1.25987000446558, 1.258589990989268, 1.2577899952167273, 1.2575700039693714, 1.2580699987971782, 1.257400006132722, 1.260279990913868, 1.2616299951651693, 1.261120001655221, 1.2590700086930393, 1.2586000099116563, 1.2588799932518602, 1.2589400055849551, 1.258999997677803, 1.2585000028499962, 1.2628699936726688, 1.2635400065773725, 1.262620006378889, 1.2614899933749437, 1.2618900013813377, 1.2594200030484795, 1.2594499990949035, 1.2572099906915426, 1.2560799979278445, 1.2558600066804886, 1.2592200091654062, 1.2586799993687867, 1.2577599991703035, 1.256529999344945, 1.2543200072282552, 1.2532900012859702, 1.2530800087207556, 1.2562599944466353, 1.2544299927318097, 1.2567099958637358, 1.256930007351339, 1.2563999962368608, 1.2581600071766972, 1.2559900097885728, 1.2528599972331524, 1.2533699907431006, 1.251779997880161, 1.2525399989241361, 1.2539499952682853, 1.2542699935773014, 1.2560799979278445, 1.2549500051641465, 1.2563000094154477, 1.2578299899452925, 1.258310007649064, 1.2593399933511018, 1.2614399999642372, 1.2611000042909384, 1.2604800050371885, 1.2618500066527725, 1.2604199927040936, 1.26156000439018, 1.2586000099116563, 1.2570800078237057, 1.2559000014090538, 1.2555300096893312, 1.2571399999165536, 1.2591799941965938, 1.2556699912393092, 1.2533399946966768, 1.252470008149147, 1.2534000070297717, 1.2561800049895049, 1.2558400093162059, 1.2540699996942282, 1.2547499910408257, 1.2561399900206924, 1.257309997753203, 1.2580200053864719, 1.2585499962607025, 1.2592200091654062, 1.2542799922594428, 1.2531999929064512, 1.2543500032746793, 1.2538199921602011, 1.2541399904692172, 1.257370010086298, 1.2504600099155307, 1.251779997880161, 1.2508100042709709, 1.2525399989241361, 1.2485899932318927, 1.251629997407794, 1.2540200062835216, 1.2541199931049347, 1.2555099920848012, 1.253469997804761, 1.2514200048425794, 1.2497000088715553, 1.2503400054895877, 1.2505899927833677, 1.2516000013613702, 1.2505799941012263, 1.2477300053665041, 1.2480100089469552, 1.2532400078752637, 1.252909990643859, 1.252030005414188, 1.2490199972847105, 1.2497100075536967, 1.2530700100386143, 1.2591699955144524, 1.2607399910131096, 1.2608299993926286, 1.261090005608797, 1.2597599987217785, 1.2621700049617885, 1.2489900012382864, 1.2496699925848842, 1.249600001809895, 1.2508400003173947, 1.2505399993726611, 1.2493699916401506, 1.248099997086227, 1.250569995419085, 1.2493599929580093, 1.247199994252026, 1.248259996240735, 1.2493000008651614, 1.2503200081253052, 1.247349994724393, 1.2466800020599365, 1.2454699995988607, 1.2460800001704693, 1.2446500064620376, 1.2411300048226117, 1.239519994355142, 1.2395399917194247, 1.2403600050964951, 1.2415800062397122, 1.2408599999243022, 1.2413299987056852, 1.239730007160604, 1.2411699995511771, 1.2405599989795686, 1.240390001142919, 1.2392199934104084, 1.2334899996542932, 1.2313799943590165, 1.230149994533658, 1.2309499903061987, 1.2305300051757693, 1.2287399981895089, 1.228929993390441, 1.228240003361702, 1.2273899939382076, 1.2275299957284331, 1.2274500062713027, 1.2271300079622864, 1.2285899977171422, 1.2279500010991096, 1.227120009280145, 1.2293000053504108, 1.2297800028139352, 1.2299500006505848, 1.227580009379387, 1.2276699975186587, 1.2283700064697862, 1.2290000044056772, 1.2316599979394673, 1.2316200032109021, 1.2318499931403994, 1.2307499964231252, 1.2290100030878186, 1.2288100092047454, 1.2282300046795607, 1.2276899948829412, 1.227559991774857, 1.2265300060728193, 1.227460004953444, 1.2270699956291915, 1.2254500067198277, 1.2233799961531162, 1.2193300036394596, 1.2148700044372678, 1.215750009907186, 1.2164799946644902, 1.2176300050327182, 1.217219998344183, 1.2151199917310476, 1.212440000832975, 1.212440000832975, 1.2121699959346652, 1.2108900026986003, 1.2100499919572474, 1.2087100066283345, 1.2097199949660897, 1.2108400092878937, 1.209940006453693, 1.2092699935489892, 1.210509992056489, 1.2096999976018072, 1.2100700095617771, 1.2107899956369401, 1.2120299941444397, 1.2087000079461931, 1.2068399899446964, 1.211320006751418, 1.2131800045126677, 1.2114900045880677, 1.211630006378293, 1.213970001603067, 1.2130500014045835, 1.2167799956092238, 1.2161499976733328, 1.2167400008806586, 1.217190002297759, 1.2137199940690397, 1.2101699963831902, 1.2115200006344915, 1.2099899998643995, 1.2120099967801572, 1.2124999929258227, 1.2111199926280976, 1.2116100090140105, 1.207229999268949, 1.206669992108047, 1.2058799950176478, 1.2043499942475557, 1.2022199915879965, 1.2024100070291759, 1.205539999344349, 1.2061499999159575, 1.2065800039687753, 1.2072599953153729, 1.2085800035202503, 1.2095100024008751, 1.208919999193549, 1.2131400097841025, 1.2113899975264073, 1.2107200048619509, 1.2132699926519395, 1.210199992429614, 1.2062700043419003, 1.2059200099864602, 1.2062700043419003, 1.2072100019046665, 1.2072499966332317, 1.2031499904686214, 1.2090200062552094, 1.2063900087678432, 1.2070799987965823, 1.2069299983242154, 1.2074199944698811, 1.2055999914371966, 1.206199993326664, 1.2043399955654144, 1.20447999735564, 1.2040499933028221, 1.2041899950930477, 1.2050500031986833, 1.2050899979272485, 1.206570005286634, 1.206319997752607, 1.20485000931561, 1.2075699949422478, 1.211470007223785, 1.2112399970540404, 1.2121699959346652, 1.2129699917072059, 1.2124499995151163, 1.2117099958354234, 1.2090200062552094, 1.2070500027501583, 1.206359992481172, 1.208039993723631, 1.2078899932512641, 1.2081100047388673, 1.2117199945175647, 1.208540008791685, 1.2072200005868077, 1.2079600042665004, 1.2077700090655685, 1.2066499947437643, 1.2073400050127507, 1.2067100070768595, 1.205759990591705, 1.2054600098872186, 1.2049299987727404, 1.2036600042188168, 1.203170008073151, 1.205010008470118, 1.2070500027501583, 1.206410006132126, 1.2070000093394517, 1.2079600042665004, 1.2064599995428325, 1.2042800034725667, 1.2033500045919419, 1.20313999178648, 1.2043699916118384, 1.206290001706183, 1.2091500093632936, 1.211010007124543, 1.2105199907386304, 1.2113600014799832, 1.211689998471141, 1.2123399937713146, 1.208760000039041, 1.2081599981495739, 1.207389998423457, 1.2080900073745846, 1.2082700038933754, 1.2089299978756904, 1.208789996085465, 1.2060900078231096, 1.2079700029486418, 1.208100006056726, 1.2086099995666741, 1.2085300101095438, 1.2088400097364187, 1.2109699921557306, 1.2105700043895842, 1.2107400022262336, 1.2106799898931384, 1.2088600071007014, 1.2081799955138564, 1.2112699931004645, 1.2109299974271654, 1.21178000685066, 1.2113999962085487, 1.2112699931004645, 1.20847999645859, 1.2085600061559678, 1.2095200010830165, 1.2090300049373508, 1.2086299969309569, 1.2093000098356605, 1.2107999943190813, 1.216349991556406, 1.2149299965301157, 1.2164899933466315, 1.2149000004836916, 1.216349991556406, 1.2151099930489064, 1.214220009137094, 1.2142600038656592, 1.213940005556643, 1.2136000098833442, 1.2162999981456994, 1.218220008240044, 1.2198899905601144, 1.2183399924257399, 1.2183800073945523, 1.2174800045603513, 1.2179600020238757, 1.2185800012776256, 1.2160499906116724, 1.227490000999868, 1.2288300065690279, 1.2268600030639767, 1.2311999978402257, 1.2339000063428283, 1.2359699966692925, 1.2352700079584122, 1.2345300042787195, 1.2362699976140261, 1.2368799981856347, 1.2381199966931342, 1.2436299992018938, 1.2471100061127542, 1.2436799926126003, 1.246820003850162, 1.2454699995988607, 1.2408400025600195, 1.2365200051480532, 1.2358900072121621, 1.2376399992296099, 1.2375399921679497, 1.2387799906754493, 1.2397999979355931, 1.2334099899569153, 1.2304399967962503, 1.2316400005751849, 1.2324299976655841, 1.2294800018692016, 1.2274400075891614, 1.22998999537915, 1.230400002067685, 1.2304299981141091, 1.2304799915248155, 1.229930003286302, 1.2290000044056772, 1.232149994085133, 1.2319500002020598, 1.2323299906039238, 1.2314700027385355, 1.2302600002774597, 1.2294800018692016, 1.2293499987611174, 1.228560001670718, 1.2292199956530332, 1.2309099955776335, 1.2295499926441908, 1.2333799939104915, 1.2342000072875619, 1.232800009625554, 1.2336400001266599, 1.2345100069144368, 1.2379499988564848, 1.2372700075098872, 1.2392399907746912, 1.240109997562468, 1.239669994827509, 1.2390599942559004, 1.2420300076568127, 1.2382699971655011, 1.2406800034055114, 1.2395600093239545, 1.2408599999243022, 1.2398900063151121, 1.2411899969154596, 1.2376899926403164, 1.2424900077560543, 1.243509994775951, 1.244070001936853, 1.2430299973124266, 1.2435299921402336, 1.2386400091254712, 1.234240002016127, 1.2322999945575, 1.2340300094509125, 1.2342100059697032, 1.234139994954467, 1.2364000007221103, 1.233140005298853, 1.2337600045526027, 1.2341099989080428, 1.2326800051996112, 1.2341599923187494, 1.2377800010198354, 1.2484900064104796, 1.2458399913185836, 1.2469400082761048, 1.2470800100663304, 1.2445300020360948, 1.2447599919655918, 1.2482300001943112, 1.247570006211996, 1.2499200001189112, 1.2521800058865546, 1.256439990965426, 1.2582599939981103, 1.2523999971339106, 1.2531000060850381, 1.2531499994957447, 1.2537300040209294, 1.2521500098401308, 1.2486300082007051, 1.247349994724393, 1.2441700089985133, 1.2455299916917086, 1.2464399932080508, 1.2485200024569034, 1.2494600000196696, 1.2465899936804175, 1.2451899960184096, 1.2446500064620376, 1.245479998281002, 1.2463800011152029, 1.2530700100386143, 1.250970003425479, 1.2508000055888295, 1.2513399951452018, 1.2508300016352534, 1.2516699921363592, 1.2456299987533688, 1.2513800101140142, 1.2501600089707972, 1.252719995442927, 1.2538299908423425, 1.2505899927833677, 1.2555300096893312, 1.2586700006866456, 1.2591699955144524, 1.258999997677803, 1.256930007351339, 1.2564199936011433, 1.2587600090661646, 1.2585599949428439, 1.2609400051364303, 1.263400004787147, 1.264059998769462, 1.2732199857854842, 1.2745600115948916, 1.2771599927955866, 1.2745300155484676, 1.2744199895644188, 1.2757700140559673, 1.2752300042593478, 1.2772099862062931, 1.2709300042116642, 1.267899998717904, 1.2682299957090617, 1.2706799966776372, 1.2673599889212848, 1.2665100199782848, 1.2557999943473934, 1.254940006482005, 1.2581600071766972, 1.258249995315969, 1.2568799937003852, 1.2556399951928854, 1.256529999344945, 1.255720004890263, 1.2558299903938175, 1.2571399999165536, 1.2565599953913689, 1.2565499967092275, 1.2572300082960726, 1.2560600005635618, 1.2578199912631511, 1.2574300021791458, 1.2563999962368608, 1.2577000070774556, 1.254099995740652, 1.2549300077998637, 1.2540799983763695, 1.2546700015836953, 1.2586799993687867, 1.2554599986740946, 1.2577999938988687, 1.2600799970307945, 1.2593399933511018, 1.2585499962607025, 1.2567900055611134, 1.2587600090661646, 1.2558099930295348, 1.2525200015598537, 1.252379999769628, 1.2487800086730718, 1.2463300077044963, 1.2462399993249773, 1.24432000947088, 1.2441399927118422, 1.246160009867847, 1.2449099924379587, 1.2428599994757772, 1.2437400049456955, 1.2474500017860533, 1.2467199967885016, 1.247570006211996, 1.2477000093200803, 1.2468999933072924, 1.24698000300467, 1.2499699935296178, 1.2504600099155307, 1.2494200052911044, 1.2515500079506636, 1.251479996935427, 1.2526300073036551, 1.2549200091177226, 1.2533800096654892, 1.2546500042194129, 1.2526500046679379, 1.2536599930056929, 1.2536900092923642, 1.2547600099632144, 1.2539799913147092, 1.2539699926325678, 1.2527700090938807, 1.2519100009882451, 1.2513399951452018, 1.2498700067082047, 1.249949996165335, 1.2508100042709709, 1.2507499919378757, 1.250970003425479, 1.2524900055134296, 1.2564900046163798, 1.2555700044178963, 1.2577599991703035, 1.2559799908661842, 1.2555300096893312, 1.2544199940496683, 1.2574499995434285, 1.2574899942719937, 1.2572900003889202, 1.2576699907907845, 1.2569800007620453, 1.257400006132722, 1.2528999919617176, 1.2519299983525276, 1.252780007776022, 1.252780007776022, 1.2533399946966768, 1.250350004171729, 1.2492199911677837, 1.2502799931564927, 1.2511000065335631, 1.2504299936288594, 1.2508999924102426, 1.2510199968361855, 1.2520500027784704, 1.2521399909177422, 1.2522200006151198, 1.2516699921363592, 1.2516100000435113, 1.252030005414188, 1.2511799959906935, 1.251319997780919, 1.253159998177886, 1.2532400078752637, 1.2540600010120868, 1.2558400093162059, 1.257400006132722, 1.256930007351339, 1.258030004068613, 1.2584600081214308, 1.2611899924302101, 1.2614100039178133, 1.2647500090384483, 1.2624099935734272, 1.26349999160856, 1.2611100029730797, 1.2617499995911121, 1.2608799928033352, 1.2641900018775463, 1.2654699951136112, 1.2674800135874749, 1.2697000043863058, 1.274890008586049, 1.2754800117933751, 1.2801600022429227, 1.2827299873971938, 1.2814799902075529, 1.2860199991071224, 1.2910599825942517, 1.290180017604828, 1.2841300052994489, 1.2823499969953298, 1.2801200075143575, 1.2772499809348583, 1.2741199886196852, 1.2718100096815825, 1.2660300022745132, 1.2654699951136112, 1.2655799806171655, 1.2652199875795842, 1.263309996407628, 1.262930006005764, 1.260059999666512, 1.258810002476871, 1.2601400093638897, 1.2616399938473106, 1.2610499906399846, 1.2631000038424134, 1.2619399947920442, 1.2588999906161427, 1.2595200101101398, 1.26180999168396, 1.2614300012820958, 1.2618600053349138, 1.2663899953120947, 1.2685999874287843, 1.2699300145560504, 1.268309985166192, 1.267059987976551, 1.2689700196290017, 1.260679998920262, 1.261120001655221, 1.2617300022268296, 1.2624900032708049, 1.2612999981740116, 1.2603899966576695, 1.260989998547137, 1.260529998447895, 1.2606100081452727, 1.259779996086061, 1.2589400055849551, 1.2599900088915228, 1.2625499953636528, 1.2614399999642372, 1.2633600100585818, 1.26218000364393, 1.25914999815017, 1.258249995315969, 1.2604900037193298, 1.2619399947920442, 1.2628100015798212, 1.2622900093877316, 1.2596299956136943, 1.2603899966576695, 1.2553599916124343, 1.2552200100624562, 1.2551300016829372, 1.2553800092169642, 1.2540899970585109, 1.250970003425479, 1.2514200048425794, 1.252660003350079, 1.253779997431636, 1.254289990941584, 1.2542699935773014, 1.2537600000673532, 1.2527900064581632, 1.2527900064581632, 1.2526999980786442, 1.2535099925333262, 1.2557899956652523, 1.2596900079467892, 1.2633299937719107, 1.2644199918070436, 1.2638400075221061, 1.2637599978247285, 1.2680900141590834, 1.2667799843961, 1.2667599870318174, 1.2689499817842245, 1.2704099917793275, 1.2716999836975336, 1.2694499968522788, 1.2679899868571758, 1.2628699936726688, 1.2660799956852198, 1.2664099926763772, 1.2647600077205896, 1.2597599987217785, 1.2588299998411536, 1.2637999925532937, 1.2693000166201591, 1.268390015103817, 1.2684800032430887, 1.2669999958837033, 1.266399993994236, 1.2663899953120947, 1.2644199918070436, 1.2647600077205896, 1.2652299862617253, 1.264610007248223, 1.260930006454289, 1.2669000090622902, 1.2693400113487243, 1.269869981982708, 1.2680700167948007, 1.267270000782013, 1.2677400198036433, 1.2647000156277417, 1.2623899962091445, 1.2622000010082126, 1.2634399995157122, 1.263649992080927, 1.263990007994473, 1.2685599927002191, 1.267959990810752, 1.2688799910092354, 1.2663899953120947, 1.263899999614954, 1.2659100180888176, 1.2738099889928103, 1.277169991477728, 1.2765099974954128, 1.2798100078874826, 1.2812199839913845, 1.2847600032353401, 1.2836599862778186, 1.2822400114917756, 1.280539992644787, 1.2761999978685379, 1.2755000091576576, 1.2775299845153094, 1.2792699980908633, 1.2818599806094169, 1.2820499960505962, 1.279760014476776, 1.2800500167393685, 1.2794800108963251, 1.2731599936926365, 1.2771199980670214, 1.2792799967730046, 1.2754600144290924, 1.2668700130158663, 1.2654799937957526, 1.2646700195813179, 1.2654200017029047, 1.2645399962329864, 1.2671500165963172, 1.2674800135874749, 1.272450006299615, 1.2662200177156926, 1.264939983999133, 1.2639800093123317, 1.2628799923548102, 1.2653200148814916, 1.265740000011921, 1.262119991310835, 1.2627399905645846, 1.2632500043147803, 1.259969991286993, 1.2633299937719107, 1.2668700130158663, 1.2694499968522788, 1.2684200111502408, 1.2680900141590834, 1.2675600030446053, 1.2687200120949744, 1.271329991977811, 1.275889998241663, 1.2748500138574839, 1.2744399869287013, 1.2734599946373701, 1.2718999978208543, 1.2735299854123592, 1.2686600200021267, 1.2674500175410508, 1.2700000053310394, 1.2715400047832728, 1.2699300145560504, 1.2683199838483334, 1.2644500080937147, 1.264150007148981, 1.2642599926525355, 1.261900000063479, 1.2620999939465523, 1.2597599987217785, 1.2577999938988687, 1.258810002476871, 1.2603300045648218, 1.2618600053349138, 1.25925000521183, 1.2591200021037459, 1.2575199903184175, 1.2579499943712353, 1.2585000028499962, 1.2603600006112456, 1.2634100034692883, 1.2622900093877316, 1.2616699898937345, 1.258780006430447, 1.2579799904176592, 1.2587199940973521, 1.258749990143776, 1.2577599991703035, 1.2556499938750267, 1.254689998947978, 1.2544499900960921, 1.255629996510744, 1.2545299997934698, 1.250040004544854, 1.247570006211996, 1.2469300095939637, 1.2467499928349257, 1.2460500041240454, 1.2448400016629695, 1.2467499928349257, 1.2464900068590046, 1.2480300063112377, 1.2494500013375283, 1.2485499985033273, 1.2464900068590046, 1.2475199925610423, 1.2457500031793118, 1.246569996316135, 1.2465400002697111, 1.2449500074067712, 1.2442699958199264, 1.2463899997973442, 1.2439100027823449, 1.2440999979832768, 1.2425300024846195, 1.2424399941051005, 1.238700001218319, 1.2381499927395583, 1.2365100064659118, 1.2369399902784823, 1.2369199929141999, 1.2354100097486378, 1.2345899963715672, 1.2383800029093026, 1.2392800057435036, 1.2358499922433495, 1.2382699971655011, 1.2393999899291992, 1.2401800085777044, 1.2394799996265768, 1.2366600069382787, 1.2377200089269877, 1.2363099923425913, 1.2348699999520183, 1.2320199909770488, 1.2354700018414855, 1.2355499912986159, 1.235049996470809, 1.2351700008967519, 1.2336599974909426, 1.2346700060689448, 1.234830005223453, 1.2319400015199184, 1.2316499992573262, 1.231519996149242, 1.2318800094270705, 1.2334300075614453, 1.2326700065174698, 1.2362400015676023, 1.236579997240901, 1.2362500002497434, 1.235239991671741, 1.2333899925926328, 1.2333200018176436, 1.237049996022284, 1.2361299958238006, 1.2360999997773767, 1.234769992890358, 1.234640010022521, 1.2370899907508492, 1.2394700009444357, 1.23798999358505, 1.2380200098717213, 1.237209995176792, 1.237170000448227, 1.2351200074860453, 1.2390699929380418, 1.2388100069621206, 1.2389400100702048, 1.2387199985826016, 1.2417800001227857, 1.242729996367693, 1.232950010097921, 1.234739996843934, 1.2369299915963412, 1.2374100093001128, 1.236950009200871, 1.2367100003489853, 1.235450004477203, 1.2343700051242112, 1.2356000049495697, 1.2351600022146105, 1.2356499983602762, 1.2381900077083707, 1.2394999969908596, 1.2372900048741697, 1.2386900025361776, 1.2389099937835335, 1.2388200056442618, 1.2379799949029089, 1.235770002786219, 1.2366500082561374, 1.2374600027108194, 1.2382699971655011, 1.2404900082045793, 1.23960000405252, 1.2414700004959107, 1.2408699986064433, 1.241389990798533, 1.2417899988049268, 1.2411000087761879, 1.2417400053942202, 1.2413699934342504, 1.2389700061166287, 1.238739995946884, 1.2399999918186664, 1.2402100046241284, 1.2427099990034103, 1.2463800011152029, 1.2452800043979286, 1.2454200061881542, 1.2456899908462167, 1.2466700033777953, 1.2452700057157875, 1.2440600032547116, 1.2455199930095673, 1.2457799992257357, 1.2449500074067712, 1.2449500074067712, 1.245669993481934, 1.245509994327426, 1.2440899993011356, 1.2448100056165456, 1.2439300001466274, 1.2434000092723965, 1.2439999909216166, 1.24394999751091, 1.243509994775951, 1.2431500017383694, 1.2440800006189943, 1.2419999913701416, 1.2417100093477964, 1.2456299987533688, 1.2485200024569034, 1.2491200043463706, 1.2509300086969137, 1.2531400008136033, 1.2556900088438392, 1.2592200091654062, 1.2569899994441867, 1.2593499920332432, 1.2583200063312054, 1.259590000885129, 1.2587700077483057, 1.2558600066804886, 1.2546600029015542, 1.2543999966853856, 1.2529800016590953, 1.252849998551011, 1.2527499914893507, 1.252350003723204, 1.2510800091692806, 1.2495299907946587, 1.252000009367764, 1.2526500046679379, 1.2530800087207556, 1.2558900027269124, 1.2552400074267387, 1.256030004517138, 1.2571699959629774, 1.2565100019806623, 1.2588499972054363, 1.2601900027745963, 1.2610199945935607, 1.2622699917832017, 1.2610199945935607, 1.2606300055095554, 1.2620500005358457, 1.2602599935495853, 1.259779996086061, 1.2597300026753544, 1.2595300087922812, 1.2643300036677718, 1.2641600058311224, 1.263680008367598, 1.2634399995157122, 1.2651399981224536, 1.263990007994473, 1.264089994815886, 1.2643200049856305, 1.2695699810379744, 1.2698299872541428, 1.2699100171917677, 1.271339990659952, 1.272829996701479, 1.2729900160962344, 1.270860013436675, 1.2664399887228013, 1.267369987603426, 1.2679799881750344, 1.268029981585741, 1.270149985563159, 1.2667799843961, 1.2661299890959263, 1.265710003965497, 1.2652199875795842, 1.2665100199782848, 1.266860014333725, 1.264869993224144, 1.2646000085660816, 1.2681700036162138, 1.271579999511838, 1.2762199952328206, 1.2768999865794182, 1.2776300118172168, 1.2786300014728307, 1.273869981085658, 1.2748700112217666, 1.2743699961537123, 1.2735499827766419, 1.2772499809348583, 1.2737000034892558, 1.27372999953568, 1.2791500139051675, 1.2786499988371134, 1.2766700168901681, 1.2817399964237213, 1.277799989413619, 1.2757900114202498, 1.2732599805140494, 1.2742800080144405, 1.273360007815957, 1.2803099824750424, 1.2817499951058626, 1.279989984166026, 1.2801400048786402, 1.2783100031638146, 1.2812700178825855, 1.2815499809825421, 1.28041000977695, 1.2826799939864875, 1.280970016937852, 1.282500017707944, 1.2763199820542335, 1.2837300175333024, 1.2837300175333024, 1.2823100022667646, 1.2824299864524602, 1.2800900114679337, 1.27944001616776, 1.2773200121903419, 1.2753499884450437, 1.2746300023698807, 1.2728199980193375, 1.2704899812364578, 1.2672200073713065, 1.2658299881511927, 1.2637999925532937, 1.2641700045132638, 1.2645699922794105, 1.2621099926286936, 1.2620999939465523, 1.2643300036677718, 1.2649199866348504, 1.2666600002104045, 1.2668300182873011, 1.2677800145322085, 1.2691699932718277, 1.268929984419942, 1.271269999884963, 1.270359998368621, 1.2715899981939793, 1.271889999138713, 1.2693800060772895, 1.2709999949866533, 1.27214000667274, 1.2709100068473815, 1.2718700017744302, 1.2748800099039077, 1.2771999875241518, 1.2788000195497273, 1.2804600031876563, 1.2816800043308736, 1.2815700188273191, 1.282010001322031, 1.283259998511672, 1.2850900002264976, 1.2860299977892637, 1.284789999281764, 1.2852900143498183, 1.2868200151199103, 1.2875799959236383, 1.290180017604828, 1.2831400143259764, 1.2851699896836282, 1.2844300062441827, 1.2788000195497273, 1.2767200103008747, 1.2776300118172168, 1.2772199848884345, 1.2787399869763851, 1.2795899963998794, 1.279019990556836, 1.2830699830704928, 1.2847500045531988, 1.2883900106185675, 1.2895800157153607, 1.2908900049978496, 1.2926400172555446, 1.2939100118094682, 1.2937699897789956, 1.293749992414713, 1.29228998241961, 1.2923800110393762, 1.2937699897789956, 1.2931499905252457, 1.2930200076574088, 1.2911900059425832, 1.2908300129050017, 1.2913399861747026, 1.290530011960268, 1.290979993137121, 1.285560019248128, 1.28344001527071, 1.2848099966460467, 1.2835000073635578, 1.2816400096023082, 1.283359985333085, 1.2802899851107596, 1.2806900133574008, 1.2815399823004008, 1.282190018081069, 1.2808199962252378, 1.2812499800378083, 1.2814099994325638, 1.2806700159931184, 1.2811899879449606, 1.2816900030130147, 1.2829899936133624, 1.2819300118649006, 1.2793999809587002, 1.2782200150245429, 1.2796199924463034, 1.2786200027906895, 1.279510006942749, 1.27869999224782, 1.2819300118649006, 1.2815399823004008, 1.2828700094276666, 1.2819000158184766, 1.28269999135077, 1.2814699915254115, 1.2801300061964989, 1.278949999781847, 1.2770200112456083, 1.2801500035607816, 1.2805699886912107, 1.2789000063711404, 1.2781099890404939, 1.273670007442832, 1.2744199895644188, 1.2729900160962344, 1.2718200083637237, 1.270359998368621, 1.2647600077205896, 1.2637499991425871, 1.266119990413785, 1.2678500053071975, 1.2679399934464692, 1.27152000741899, 1.275450015746951, 1.2742800080144405, 1.2752200055772065, 1.2722799882227183, 1.2745000195020437, 1.2728199980193375, 1.269179991953969, 1.2706400019490718, 1.2709300042116642, 1.2723399803155662, 1.2712400038385392, 1.2707299900883435, 1.2706999940419197, 1.275510007839799, 1.2764999988132715, 1.2788000195497273, 1.2784199886673688, 1.2762899860078096, 1.271760016270876, 1.2724400076174736, 1.27077998349905, 1.2709699989402294, 1.2712899972492457, 1.2721999987655879, 1.2647000156277417, 1.2639800093123317, 1.2637599978247285, 1.2642299966061115, 1.2623400027984382, 1.266300007172823, 1.2693000166201591, 1.2673599889212848, 1.2666000081175566, 1.26483999717772, 1.2639800093123317, 1.2648599945420027, 1.2586799993687867, 1.2571300012344122, 1.2566600024530292, 1.255319996883869, 1.254719994994402, 1.251720005787313, 1.2497500022822619, 1.2505100033262373, 1.2501800063350796]\n",
      "[1.256601447417736, 1.2562057910645008, 1.2554012007558346, 1.2546790692144631, 1.2542025328332185, 1.25400559522748, 1.2543544156485795, 1.255299230390191, 1.2562996653312444, 1.2567239413940907, 1.2568163988435268, 1.2563104736232757, 1.2555859942132235, 1.254851030355096, 1.254411533626318, 1.2543788658672572, 1.255080109473467, 1.2561363265359402, 1.256582704948783, 1.2565441675180198, 1.2559852128499747, 1.25535671269238, 1.2549772890174389, 1.2548164600127936, 1.255408203881383, 1.2565523445779085, 1.2575616852277518, 1.257954265063405, 1.2581747218364476, 1.2577483407878876, 1.257064220430851, 1.2558308202439548, 1.2543455099397898, 1.2529684039974214, 1.2527009898507595, 1.2530983059042693, 1.25369033313632, 1.2536682712668181, 1.2530082368040085, 1.2518169363313914, 1.250764281552434, 1.2504675190472603, 1.2507207245403529, 1.2511980705314876, 1.2519930669629573, 1.2527156033092737, 1.2532260218644142, 1.2535778378421067, 1.2529120551490784, 1.2518623149657249, 1.250638670578003, 1.2495767052853108, 1.2491724265867472, 1.2494144189828635, 1.250308956950307, 1.2510667922878265, 1.2517678739720584, 1.252404065423608, 1.2531542094671726, 1.2540478973442315, 1.2551571438544988, 1.2562917311543227, 1.2568242925399542, 1.2571867953681946, 1.2574316618794203, 1.257361590143442, 1.2571189905399085, 1.2562461905980111, 1.254926364555359, 1.2536194113099575, 1.2529368292117118, 1.2532788489097357, 1.2536464927607776, 1.2531725876116753, 1.2520746756398677, 1.2510290239864588, 1.2507614883983136, 1.2511785589331388, 1.2515249505245685, 1.2516655392819642, 1.2519228737854957, 1.2521970076942444, 1.2528514153683186, 1.2536279122138023, 1.254616364928484, 1.2544877988779546, 1.2532176828825474, 1.2519308889234066, 1.2509505323076249, 1.2505917132043838, 1.2510248949760199, 1.2510308051282168, 1.2502716339343787, 1.2493730074369906, 1.248950795879364, 1.2482243329250813, 1.2479383382314444, 1.24826282987535, 1.2490857983285188, 1.2499008326047658, 1.2507469963812827, 1.250690242727995, 1.2498386950457097, 1.2487854735398292, 1.2477452867531778, 1.2472649047249555, 1.2473092308664322, 1.2470397926950454, 1.2466128044390679, 1.2469251114541293, 1.2477686844789981, 1.2483822878146171, 1.2486273972088098, 1.248166810142398, 1.24805670319736, 1.2492956492120029, 1.2515790324652194, 1.2542085239464045, 1.2564645828658343, 1.257575489076376, 1.2581423374408482, 1.256626180999875, 1.2531614959561825, 1.2498675576382876, 1.2479473653817177, 1.246764687254429, 1.247088571690917, 1.2468123327964544, 1.247089057456851, 1.2468980300033092, 1.2466975301140546, 1.2465754004621505, 1.2465904592061043, 1.246886654984355, 1.2466189979547262, 1.2461268765830993, 1.245260229676366, 1.24451259542346, 1.2438152379447223, 1.242679152866602, 1.2411777313256265, 1.2396067642951012, 1.238752302017212, 1.2387208891534804, 1.2391787235462666, 1.2396848916494847, 1.24002071783185, 1.2399640856200456, 1.239801596915126, 1.2395426027113199, 1.2390091912353038, 1.2377349462294578, 1.2356167233937978, 1.2331838456743955, 1.2312128908777238, 1.2300772106045486, 1.2292641193920375, 1.229207325258255, 1.2289442020440102, 1.2286316521459817, 1.2281089275205135, 1.2278574626886845, 1.2279020721936227, 1.2281415952795744, 1.2283004812204839, 1.227934213706255, 1.2280059856230021, 1.2282744927430154, 1.2287281171643734, 1.2285880546534063, 1.228138640203476, 1.227654048203826, 1.2275819929236174, 1.2280361031109095, 1.2290972587937117, 1.230078384538889, 1.2303344236665965, 1.2298368374282123, 1.228981970345378, 1.2279932747477293, 1.2270338870280981, 1.2259826085859538, 1.2252095525825024, 1.2247462128424644, 1.224843811314702, 1.2246128296130896, 1.2239985381090641, 1.2225942697548866, 1.2200674368077518, 1.2177068167710305, 1.216051488389969, 1.2153997524285316, 1.2156174565279485, 1.2157504754328727, 1.215285030707121, 1.2142564618223906, 1.213316585701108, 1.212516164883375, 1.2118903364384175, 1.2112868532264234, 1.2107534822309018, 1.2104779315048457, 1.2105212861144543, 1.2104905614191295, 1.2106209086114168, 1.210837357815504, 1.210586945476532, 1.2101539661073686, 1.2104700782889128, 1.2101983327293395, 1.2099921250903607, 1.2097492826038598, 1.2097003821665049, 1.2097231322044135, 1.2101851360881328, 1.2108214894616605, 1.2116488702887296, 1.2120275653147699, 1.2126755365902187, 1.2135016625219583, 1.2147281405442953, 1.2150061605805158, 1.2138102858120203, 1.2119605700963736, 1.2101562330150604, 1.209343506127, 1.2093900182151796, 1.2096152112060785, 1.2097875771516562, 1.2093060211890936, 1.2079587088906765, 1.2065196273112297, 1.205256676363349, 1.2038176757448913, 1.2028241629683971, 1.2026600550436974, 1.202990375878811, 1.2035875441336632, 1.204566605373621, 1.2055142537498473, 1.2064801993095875, 1.2073780161970853, 1.2082852245593072, 1.208773216920495, 1.2094081129962206, 1.2099650436395406, 1.2102145654076337, 1.2092572421932222, 1.2069994021320343, 1.2054321188265085, 1.2046003661060334, 1.2046296335035562, 1.204439618062377, 1.2046852132225037, 1.2048904898101092, 1.2048924733543396, 1.20517939909935, 1.2054213914954663, 1.2052719779902696, 1.2049072487348318, 1.2042260834538936, 1.2035531761938334, 1.202957060431838, 1.2025585704439878, 1.202348314755559, 1.202560999273658, 1.2028240415269136, 1.2032324087554216, 1.203625069552064, 1.2038868164294958, 1.205048363738656, 1.206504325684309, 1.2076893111997844, 1.208899151738882, 1.2099341570222377, 1.2102343603694439, 1.2098058743351698, 1.2083766295158864, 1.2065726162785293, 1.205443898650408, 1.204899557440877, 1.204874257131815, 1.2058985350841285, 1.2063750714653731, 1.2064923029774428, 1.205902785536051, 1.2057940144473314, 1.2053468669050933, 1.2051368540996312, 1.2050823268735409, 1.204954691874385, 1.204158966794014, 1.2034988513702154, 1.2030458341562749, 1.2021755440050363, 1.202226508947611, 1.202033457469344, 1.2027447807186842, 1.2034043698960544, 1.2042752267742156, 1.204975539329052, 1.2047594139689208, 1.2039159219050408, 1.2027659115368128, 1.2021070914888383, 1.2021310154610871, 1.2030071752840281, 1.2046161130183934, 1.2062074822181463, 1.2076419085407257, 1.2088107828193904, 1.209436773186326, 1.2095518592321872, 1.2085590346240997, 1.2071945990765094, 1.2061285857343673, 1.2055744482451678, 1.2058070086860657, 1.205989494755268, 1.2058270465308427, 1.205433130838871, 1.2053524127328397, 1.2056203936064243, 1.2058605643802882, 1.2062215289497376, 1.206658556368351, 1.2072563723111154, 1.2076232065522672, 1.2080061520302297, 1.207890296854973, 1.207374332472086, 1.2070767603570223, 1.2070451450908184, 1.207271754899025, 1.2078181201332807, 1.2082594789648056, 1.2083250168853998, 1.2077647263610363, 1.2069284398251772, 1.2064160377258062, 1.2061294763052464, 1.2061408108437062, 1.2066109108263254, 1.2078833746904134, 1.209616708984375, 1.2113411780500412, 1.2126594658339023, 1.2135078560376167, 1.2137251553320885, 1.2133069108629226, 1.2126638782078027, 1.2120132757002116, 1.2115602989667653, 1.2115953955554963, 1.2125411413484812, 1.2139481623762847, 1.2150990633153915, 1.2157575595194101, 1.2159884197795392, 1.215920291107297, 1.2158337842905522, 1.2155076734268666, 1.2170507089161873, 1.2194956903034448, 1.2220547052437067, 1.2249503154957295, 1.227548394113183, 1.2307225506478547, 1.2320112067097426, 1.2333237867438793, 1.233468423550725, 1.2340753880852462, 1.2352651502990724, 1.2374559951418638, 1.240592140492201, 1.2425623666399717, 1.2444595254951716, 1.2457442144685984, 1.245813921880126, 1.2436410098963977, 1.241377097761035, 1.2389568499559165, 1.237350098168254, 1.2370381149971486, 1.2378437173181773, 1.2378542827272416, 1.236623149448037, 1.234545366626382, 1.232967113106847, 1.2315074674361943, 1.230078384538889, 1.2290539851450921, 1.2287134227448702, 1.228543930914402, 1.2288150692665578, 1.2291164465481044, 1.2290911462390424, 1.2293729714417458, 1.2298621782177688, 1.230358792924285, 1.2307000030124187, 1.2307269225412607, 1.230315478795171, 1.229695965307355, 1.2289616086566448, 1.228270970939994, 1.2281110325062274, 1.2280769884103537, 1.2285633615517617, 1.2296672241562605, 1.2304464736753702, 1.2309557992571591, 1.2315033384257554, 1.232175678958893, 1.2332269574010373, 1.234157199164629, 1.2352522775018215, 1.2361139857882262, 1.236607807340622, 1.2371701218897104, 1.237317835214138, 1.2372069996201993, 1.2370534975850582, 1.2369800659680366, 1.2370207488650085, 1.2372855722600222, 1.2372179698342085, 1.2371864760094882, 1.237878732945919, 1.2388664974921941, 1.2397569064491987, 1.2405329175287485, 1.2401949053996801, 1.2381837129914761, 1.2351401060515643, 1.2323926544094086, 1.2307275702291727, 1.2302797749990224, 1.2306375416094064, 1.2309375020736455, 1.230940133305788, 1.230817194043994, 1.2307145759904385, 1.2307089896821977, 1.2314070758098363, 1.2345168278777598, 1.238012925785184, 1.2410543872588873, 1.2434149263346195, 1.24398598467052, 1.2437742312037945, 1.2434724086368083, 1.243773623996377, 1.2440454100364446, 1.2455607163870335, 1.2483291369253398, 1.2516445703858137, 1.2536052431368827, 1.2537033273750544, 1.2530322417372466, 1.2523472308093309, 1.2518674559885263, 1.2511319658839704, 1.2496268606179952, 1.247548511069417, 1.2449013700926304, 1.2438435742908716, 1.2442928268188238, 1.2453615118736028, 1.2462296160781383, 1.2460071757608653, 1.245005769287944, 1.2439538431578874, 1.2432905297750234, 1.2441611842507123, 1.2457425547683239, 1.2469510189706088, 1.247721565183401, 1.2481428052091599, 1.24810924687922, 1.2474010811084508, 1.2466215482258798, 1.2463273359918594, 1.2465850348198413, 1.247884053888321, 1.2489554511362315, 1.2500159186506272, 1.251348212685585, 1.253081911303997, 1.2545188474172353, 1.2555218731099367, 1.2556280129665136, 1.2556840379709004, 1.2556822568291426, 1.256011606132388, 1.2568991409742831, 1.2583210993045568, 1.2613336172246934, 1.266120152335763, 1.2706761510306597, 1.2735996118628978, 1.274516980829239, 1.274304782077074, 1.2741897769922017, 1.274588995628953, 1.2742805747413635, 1.2725033191108703, 1.2696277062231303, 1.2680194161766767, 1.267420102455616, 1.2673742380553483, 1.2650887498164176, 1.2619098570638896, 1.2585365769767762, 1.256811217340231, 1.2560501435631513, 1.2559955758565664, 1.2559026731216907, 1.256019783192277, 1.2554612333291768, 1.2552510990822314, 1.2554505869591237, 1.2557421679610015, 1.2561632460647822, 1.256504779996872, 1.2562541247749328, 1.2563084495985508, 1.256424183332324, 1.2564443830990792, 1.2561884654128552, 1.255502928238511, 1.2544629033738375, 1.2538005210423468, 1.2539893625491858, 1.2544140029364825, 1.2548602194273473, 1.2555506547415256, 1.256168508529067, 1.2565938775652647, 1.2562377301746608, 1.255763622623086, 1.254767761977911, 1.253445507105589, 1.2515111061954498, 1.2496951512122154, 1.247883001395464, 1.2458432297581434, 1.2445856222355365, 1.242854069083333, 1.242550222491622, 1.2425809067064524, 1.2427505604588986, 1.2430430725121497, 1.2437223352098465, 1.2445079806470871, 1.245050054948926, 1.2456587601447104, 1.245838169696331, 1.2457246623897553, 1.245736968460083, 1.2463323960536719, 1.2467445684486627, 1.2474003929400443, 1.2481461650902033, 1.248825022982955, 1.2499790004396438, 1.2507518945211171, 1.251096747853756, 1.2512502903693914, 1.250943407740593, 1.2509444602334499, 1.2509583855235578, 1.2509766017460824, 1.2509054775172472, 1.2508995268845557, 1.2505809453928471, 1.2500680980080365, 1.2490323640757799, 1.2480277191632987, 1.2472582659238578, 1.247137067323327, 1.2473087451004983, 1.2479236438119412, 1.2489539938384295, 1.2500893502676487, 1.2513486579710245, 1.2523703046911956, 1.2528910457724334, 1.252481261726618, 1.2521026881420612, 1.252170452489853, 1.2523686045104265, 1.2529832603389024, 1.2533781880432366, 1.2535822502160072, 1.252951847475171, 1.2515507365995646, 1.2501903895819186, 1.2493736956053971, 1.249103245421648, 1.2489991700702905, 1.2483692530953885, 1.2475934039378167, 1.2471101882749795, 1.2469760763967037, 1.2472378637546302, 1.2475376218163967, 1.247833858075142, 1.2480790889108182, 1.248235910346508, 1.2484077905261517, 1.248514375668168, 1.2485820590549708, 1.2484407821291685, 1.2481519942814112, 1.2481502941006422, 1.2485478935176133, 1.2492019368672371, 1.2502258100146055, 1.2515152756863832, 1.2524418337249756, 1.253141093786955, 1.2539765302324295, 1.2550430293405057, 1.2563459750169517, 1.2577644115442037, 1.2588722412371636, 1.2594511123085022, 1.259561381175518, 1.2592869234228135, 1.2588857617223264, 1.2589689086580276, 1.259566643639803, 1.2606762139940262, 1.2624246475124359, 1.2654342508369685, 1.2687184738361836, 1.2724734849864245, 1.2759569529795647, 1.2784905866497756, 1.2806264589810372, 1.2836035564684867, 1.2870910320305824, 1.2882998200768232, 1.2876378830307722, 1.284820723977089, 1.281571395164132, 1.2785702522629498, 1.2762349730157851, 1.273159629368186, 1.2703222705477477, 1.267616028048992, 1.2660422678643466, 1.2651068041169644, 1.2646000288063288, 1.2639034404569864, 1.2630278068804741, 1.2616654358381032, 1.2610241438442469, 1.2609950788491964, 1.261530959635377, 1.2621862983608245, 1.2621716039413213, 1.261238164218664, 1.2607779009962081, 1.2607966434651614, 1.2611463949376345, 1.2625415956610442, 1.2647581051373482, 1.2667534696722031, 1.2682384156519175, 1.2685215767109395, 1.2682324245387315, 1.2667650875741243, 1.2641091623300313, 1.261650255652666, 1.2604685085767509, 1.2594678712332248, 1.2594675069087744, 1.258745780172348, 1.258547668632269, 1.2582398954325915, 1.258313003205657, 1.2580402456337214, 1.257754858147502, 1.2581511217081547, 1.2584011697226762, 1.2588057317847015, 1.2593040466719865, 1.259001778819561, 1.2581319744342565, 1.2573378685736656, 1.2568454638385773, 1.256961885740757, 1.257720814051628, 1.2580746135735512, 1.2581318934732675, 1.2570508213871718, 1.2552544184827805, 1.2534878901833295, 1.2524191241675615, 1.2516498328500987, 1.2509806497955323, 1.2499933305346966, 1.249158460816145, 1.2489361419403553, 1.2493356844210626, 1.25020281709373, 1.250868964111209, 1.2509255153620242, 1.2508360129886866, 1.250353566455245, 1.2500802016758918, 1.250702022551894, 1.2518700872206687, 1.2543412999683619, 1.2568095576399565, 1.2590501530104876, 1.2603199856424332, 1.2616647881501912, 1.2629412191027403, 1.2641270951890946, 1.2647032945477963, 1.2652427780979871, 1.26649504219532, 1.2673014136457443, 1.2679410864198208, 1.266396836515665, 1.264927637448311, 1.2635011048221587, 1.2627754109972715, 1.2619564096325635, 1.2608318210148812, 1.2600792886221408, 1.2607927978181839, 1.2622268598163129, 1.2639389823311566, 1.2651848909908534, 1.2655950393611193, 1.2650393636131287, 1.2641281476819515, 1.2626452662074565, 1.2616181951010228, 1.261041590937376, 1.2604689133816958, 1.2603426547193528, 1.2609974267178774, 1.2623528351151942, 1.2637809869611263, 1.2647816647851466, 1.2651922179603576, 1.264556755157709, 1.2629211812579633, 1.2610384334588052, 1.259970477052927, 1.2596710428351163, 1.2600120505207777, 1.2608904772514105, 1.2621383289748431, 1.2631774227881432, 1.2639593035393952, 1.2637311149919033, 1.2630819293016196, 1.2638021582597494, 1.2659092489594221, 1.2683794092142582, 1.2714868538939952, 1.2745564493113757, 1.2777044149661063, 1.279835915403962, 1.2807420307928323, 1.2801248246932029, 1.2783884948426485, 1.276264483296275, 1.27502452526927, 1.2749168066734076, 1.2756550494515895, 1.2766865734124184, 1.2777579706603288, 1.278107965015769, 1.2782769305998087, 1.2770272167736292, 1.2758458340221643, 1.274896242582202, 1.2738051313334704, 1.2721987438702582, 1.2692966162586212, 1.2671004279905558, 1.2639059097671508, 1.2625655196332932, 1.2618418903136253, 1.2627064727151394, 1.264964312776327, 1.2664614029043912, 1.2667718073362113, 1.2654963479155301, 1.2642325063967705, 1.2632127217793465, 1.2631292105191947, 1.26272987044096, 1.2623534423226117, 1.2620491909259557, 1.2612183287763596, 1.2608353428179027, 1.2619170625919103, 1.2639410873168706, 1.2652988435828685, 1.2658162247830629, 1.2666151883029937, 1.2665686762148143, 1.2674818756902217, 1.268277236446142, 1.269336813389659, 1.2702374639117717, 1.271051688578129, 1.2710132321083545, 1.2710271169179679, 1.269940701406598, 1.2677661297225953, 1.2660300022745132, 1.2660908039772512, 1.2665877425277232, 1.2674738200718165, 1.2664246870958804, 1.264131021797061, 1.2619513090902568, 1.260717787461877, 1.2601812589877843, 1.25994477193892, 1.2584216123723984, 1.2571200025522709, 1.256323548822999, 1.2569061036193372, 1.2575570704513788, 1.257856788032651, 1.2575641545379161, 1.2568956596517562, 1.2562372848892212, 1.2563654461348057, 1.2576983068966865, 1.2592733219766616, 1.2603582801902293, 1.2598985836946963, 1.2583601225012542, 1.2573842187398672, 1.2565572831982375, 1.256220242601037, 1.2550980018520355, 1.2539668553942442, 1.2530500936353206, 1.2526736655169726, 1.2526333064639568, 1.2519508053267001, 1.250483225479126, 1.2484864036464691, 1.2466387929165363, 1.2454268069112302, 1.2447337808454038, 1.2446604301893711, 1.2447119213783742, 1.2453149593049289, 1.2459989582204818, 1.2467765075588226, 1.2471858058387042, 1.2471295379513503, 1.2468053701514006, 1.2460538092905282, 1.2454457113021613, 1.2449598644071818, 1.2442580945545434, 1.2441374626809358, 1.2437594558233023, 1.2431289316409826, 1.2423295633161069, 1.2417599622780084, 1.2409085765177013, 1.23969537609756, 1.2381030353659392, 1.2367775420540572, 1.2358957959228754, 1.2354694553548098, 1.2349093267524243, 1.2349914211952686, 1.2356506460481882, 1.235970037149787, 1.2362078600549697, 1.236743133633733, 1.2373630519264938, 1.2379150844299793, 1.2377203327709436, 1.2371763558858633, 1.236379456871152, 1.2353939187520742, 1.2341661858344077, 1.2333868958348035, 1.2332011308455468, 1.2331562784576415, 1.2332449712210893, 1.2334738884174823, 1.233361474084258, 1.2333288468056918, 1.232728966357708, 1.2317351702177524, 1.2307613714420795, 1.2300996772789956, 1.2300704908424616, 1.230297424494624, 1.2310408082956075, 1.2320198695355653, 1.2329656153285504, 1.2334958693259954, 1.233317269384265, 1.2326748439365625, 1.2325573290610314, 1.232575788166523, 1.232758962404132, 1.2330738196903468, 1.2329793382161855, 1.2331219105178117, 1.2336273094916343, 1.2341511675709487, 1.234574391140938, 1.2349839323037863, 1.2350889791870117, 1.2346757947796583, 1.2344747281634807, 1.2345682785862684, 1.2348559734606743, 1.235372180726528, 1.2362007759684324, 1.237468665536642, 1.237145833593011, 1.2350374879980088, 1.2333267418199778, 1.2328588277840615, 1.2328635640019179, 1.2337135329449176, 1.2333439055496453, 1.2321445899391175, 1.231375581985116, 1.2314820052051545, 1.2317686475867033, 1.232720627375841, 1.2336445946627856, 1.2339710698509216, 1.2342916348868609, 1.2349733264142275, 1.2353954570108652, 1.235677889420986, 1.234928352584839, 1.2340232087278367, 1.2334138963246346, 1.233491942718029, 1.2343852662706376, 1.2355938114339113, 1.2365826284730435, 1.2371870427364111, 1.2376130189800263, 1.2379888398909569, 1.2382967345321179, 1.2383826341414452, 1.2386652689540387, 1.2385020920807124, 1.2370368196213246, 1.2361520374530555, 1.236299345972538, 1.236625254433751, 1.238843221207857, 1.2395044296050073, 1.2407074694210292, 1.2415775976502896, 1.2423314658993483, 1.2432253966593743, 1.242936527850628, 1.24245096431911, 1.241870676430464, 1.2417192389005423, 1.2419310328477622, 1.2420434471809865, 1.2419757637941837, 1.241713288267851, 1.2414807683074474, 1.2412326228761672, 1.2408937606567145, 1.2408408931308985, 1.2410016006940603, 1.2407543053531647, 1.2403420115166903, 1.2403415257507562, 1.2399881715142727, 1.2398531690651178, 1.2397621689134837, 1.240715322636962, 1.2416415163511039, 1.2434726515197754, 1.2458090237402917, 1.2486434274846316, 1.251352422657013, 1.2531010180974007, 1.2545875428164006, 1.25545856161654, 1.256270843219161, 1.256748715456724, 1.256601852222681, 1.2556439622813462, 1.254133149265647, 1.252781303151846, 1.2517301056706904, 1.2512457565540076, 1.250803871476054, 1.250429062577486, 1.2495195468270779, 1.249021596264243, 1.249096768542528, 1.2497543741756678, 1.2507249749922753, 1.2517551630967856, 1.2522848098868131, 1.2529382865095138, 1.2532042433583737, 1.2535163479709626, 1.254097243067026, 1.2549997961723804, 1.2559810433590413, 1.2570065357261897, 1.257514039685726, 1.2577878902310133, 1.2579488001966477, 1.2575179662936926, 1.257090492271781, 1.256828178667426, 1.257323457517624, 1.2588841829830408, 1.2598770480716228, 1.2606069923484324, 1.2611565150612594, 1.2613692400598526, 1.2616063747966288, 1.2615509569996595, 1.2622244309866428, 1.2634292924249173, 1.264494779520631, 1.2659402570182086, 1.2673535930031539, 1.2686450017386675, 1.268896830894947, 1.2679590192788839, 1.2660569622838498, 1.264736933838725, 1.264005329861641, 1.2643109980756044, 1.2643690066242217, 1.263814626252055, 1.2630426632219554, 1.2624843562418222, 1.2621494206303359, 1.2624405968272685, 1.2623522683882713, 1.2621688512676954, 1.2621012893223762, 1.2630495044255257, 1.2656412276053428, 1.2684215089285373, 1.2712581795805693, 1.2729411966198683, 1.2726426529729367, 1.272033704894185, 1.2711604596668482, 1.2702947842919827, 1.2701069952780009, 1.2699983456307649, 1.26981808598876, 1.2708110725188255, 1.2726891245806218, 1.2738785224699973, 1.275583237054348, 1.276152473767996, 1.2751476669335364, 1.274125089161992, 1.2725467142009734, 1.272234892951846, 1.2714711879426241, 1.272851491844058, 1.2740759863221645, 1.2753506766134501, 1.2763791240566968, 1.2767644983643294, 1.277367455329895, 1.2766868567758798, 1.2764340156072378, 1.2766124536269903, 1.2768549317890405, 1.2771704367631673, 1.276812305828333, 1.2765884891742467, 1.2765316950404644, 1.2769890031868218, 1.2776927565836906, 1.2779393232756853, 1.2763771405124664, 1.2744327814006806, 1.272496558868289, 1.2709758281314374, 1.2697913688623905, 1.2684191610598563, 1.2664853268766403, 1.264636218368411, 1.2630921708667278, 1.2621346857303382, 1.2618433476114272, 1.261747651722431, 1.2621196674668789, 1.2627003196799755, 1.263234014519453, 1.2639497501426935, 1.2649366645985842, 1.2661942316406964, 1.2669750598990916, 1.2677569001698494, 1.268105396746993, 1.2684440565639734, 1.2689657286965847, 1.2690638534152507, 1.2690182318979502, 1.268970464914441, 1.2687668885076047, 1.2686476734513044, 1.2692013656550645, 1.2708221641743183, 1.2727865611308813, 1.2748890775346755, 1.276680541818738, 1.278387806674242, 1.2793255778098107, 1.2802321384841204, 1.281146552374363, 1.2824560963714122, 1.2831259271138906, 1.2834066593432427, 1.283831178289056, 1.2845756145828962, 1.2857710035854577, 1.2863559062504768, 1.285200876300931, 1.2836023015731572, 1.2821432226294278, 1.279356666829586, 1.278413106983304, 1.276067262327075, 1.2752360358530284, 1.274739825951457, 1.2753838301384448, 1.2770265286052227, 1.2790741129779815, 1.280808175920844, 1.2827533446425199, 1.2848552943193912, 1.286776943873763, 1.2886590844655037, 1.2895493719810247, 1.2900744039946794, 1.2898259347194434, 1.289444365578294, 1.2892805410170556, 1.2896263254010678, 1.2897413709664345, 1.2898097830021382, 1.2893778561258316, 1.2889850334072113, 1.2886268619918824, 1.2886043953174353, 1.2876858524167538, 1.2860308073991538, 1.2840055682593583, 1.2823310521239042, 1.2809913096779584, 1.280324798336029, 1.2796166730457543, 1.2788193287456036, 1.2783483786725998, 1.278132860519886, 1.277700407397151, 1.2780361930990218, 1.277498976456523, 1.2773991920375825, 1.2774847678029537, 1.27727329769969, 1.277806790136695, 1.2782010701531172, 1.2782036204242706, 1.2778242777103186, 1.2772023353928328, 1.276909459015131, 1.2766886379176379, 1.276630831771493, 1.2769292944574355, 1.2772259760016202, 1.2776710185581446, 1.2781777533882857, 1.2783256286346911, 1.2782277063184977, 1.2777083820545674, 1.2765480491602421, 1.2752149050348998, 1.274382545107007, 1.2744170344883203, 1.2746351433926821, 1.27454074287951, 1.2736870902115107, 1.272348238336444, 1.2711852337294818, 1.270124604293108, 1.269258078827858, 1.2677428534382582, 1.2654423064553737, 1.2637257715666295, 1.2633516103559732, 1.2636682892644406, 1.2654209327542782, 1.2678923479044437, 1.2702197739356755, 1.2715121542030572, 1.272015205308199, 1.27193549921453, 1.2718171747291087, 1.2704970248425007, 1.2691703171157838, 1.2680115629607438, 1.2675865582489967, 1.2676633497470617, 1.2680639852011204, 1.2681719466799497, 1.2689103918606044, 1.2700135258162022, 1.2717189690494537, 1.2737998688691854, 1.2747046484017373, 1.2743745704495906, 1.272258493080139, 1.270180872180462, 1.2685945630425215, 1.2676934267544746, 1.2679999450588226, 1.2668549542719125, 1.2647999619686603, 1.2627550493085384, 1.2616338610523938, 1.2611067645335197, 1.2614947700732946, 1.2626049476349355, 1.2637890830600262, 1.2641777362877131, 1.2644471339786052, 1.2638558353954554, 1.2633750890427828, 1.2619190056556464, 1.2595676961326598, 1.2572435490214824, 1.2554658481055498, 1.2542745071524382, 1.2537636837923527, 1.2526427384191752, 1.2519264765495062]\n"
     ]
    }
   ],
   "source": [
    "preds = model.predict([x_test_candles, x_test_time],batch_size=32)\n",
    "print(preds)\n",
    "print(y_test.shape)\n",
    "y_test3 = []\n",
    "preds3 = []\n",
    "for n in range(len(y_test)):\n",
    "    y_test3.append(denorm(y_test[n][3]))\n",
    "    preds3.append(denorm(preds[n][3]))\n",
    "    \n",
    "print(y_test3)\n",
    "print(preds3)"
   ]
  },
  {
   "cell_type": "code",
   "execution_count": 186,
   "id": "89718c67",
   "metadata": {},
   "outputs": [
    {
     "data": {
      "image/png": "[encoded data removed]",
      "text/plain": [
       "<Figure size 432x288 with 1 Axes>"
      ]
     },
     "metadata": {
      "needs_background": "light"
     },
     "output_type": "display_data"
    }
   ],
   "source": [
    "plt.plot(np.asarray(preds3), color='orange', label='predictions')\n",
    "plt.plot(np.asarray(y_test3), color='green', alpha=0.5, label='real data')\n",
    "plt.legend()\n",
    "plt.show()"
   ]
  },
  {
   "cell_type": "code",
   "execution_count": 303,
   "id": "7ba91118",
   "metadata": {},
   "outputs": [],
   "source": [
    "#print(x_trial_time)\n",
    "\n",
    "n_steps=10\n",
    "X = x_trial_candles\n",
    "X_time= x_trial_time\n",
    "#print(X_time.shape)\n",
    "for step_ahead in range(n_steps):\n",
    "    y_pred_one = model.predict([X, X_time],batch_size=32)[:, np.newaxis, :]\n",
    "    \n",
    "    #if X_time[0][-1][0] == 0.8333333:\n",
    "    #    y_time_one=0.0\n",
    "    #else:\n",
    "    #    y_time_one=(X_time[0][-1][0]+0.16666667)\n",
    "    #if (X_time[0][-1][1] == X_time[0][-2][1]) and (X_time[0][-2][1] == X_time[0][-3][1]) and (X_time[0][-3][1] == X_time[0][-4][1]) and (X_time[0][-4][1] == X_time[0][-5][1]) and (X_time[0][-5][1] == X_time[0][-6][1]) and (X_time[0][-6][1] != 0.5714286):\n",
    "    #    y_time_two=(X_time[0][-1][1]+0.14285715)\n",
    "    #if (X_time[0][-1][1] == X_time[0][-2][1]) and (X_time[0][-2][1] == X_time[0][-3][1]) and (X_time[0][-3][1] == X_time[0][-4][1]) and (X_time[0][-4][1] == X_time[0][-5][1]) and (X_time[0][-5][1] == X_time[0][-6][1]) and (X_time[0][-6][1] == 0.5714286):\n",
    "    #    y_time_two=0.0\n",
    "    #else:\n",
    "    #    y_time_two=X_time[0][-1][1]\n",
    "    \n",
    "        \n",
    "    y_time=[X_time[0][-1]+0.1158741001643]\n",
    "    \n",
    "    X_time=np.concatenate([X_time, [y_time]], axis=1)\n",
    "    X = np.concatenate([X, y_pred_one], axis=1)\n",
    "    \n",
    "    \n",
    "    X_time=np.delete(X_time[0], 0, axis=0)\n",
    "    X = np.delete(X[0], 0, axis=0)\n",
    "    \n",
    "    X_time=np.asarray([X_time])\n",
    "    X=np.asarray([X])\n",
    "    \n",
    "    #print(X_time.shape)\n",
    "    #print(X.shape)\n",
    "\n",
    "#Y_pred1 = X[0][-1][3]\n",
    "#Y_pred2 = X[0][-2][3]\n",
    "#Y_pred3 = X[0][-3][3]\n",
    "#Y_pred4 = X[0][-4][3]\n",
    "#print(Y_pred1)\n",
    "#print(Y_pred2)\n",
    "#print(Y_pred3)\n",
    "#print(Y_pred4)\n",
    "#0.0000143\n"
   ]
  },
  {
   "cell_type": "code",
   "execution_count": 337,
   "id": "c0431179",
   "metadata": {
    "scrolled": true
   },
   "outputs": [
    {
     "name": "stdout",
     "output_type": "stream",
     "text": [
      "[[1.2524772e+00 1.2519364e+00 1.2513033e+00 1.2519264e+00 3.0189456e+03\n",
      "  1.2540648e+00 1.2536861e+00 1.2599325e+00 6.6042416e-02]\n",
      " [1.2520217e+00 1.2514756e+00 1.2508425e+00 1.2514898e+00 3.1630664e+03\n",
      "  1.2535231e+00 1.2529144e+00 1.2591867e+00 6.7737125e-02]\n",
      " [1.2524010e+00 1.2514253e+00 1.2504605e+00 1.2514635e+00 6.2760767e+03\n",
      "  1.2535449e+00 1.2522109e+00 1.2585207e+00 6.8344802e-02]\n",
      " [1.2536417e+00 1.2519884e+00 1.2503816e+00 1.2519332e+00 1.1352548e+04\n",
      "  1.2541709e+00 1.2513298e+00 1.2577668e+00 6.6792361e-02]\n",
      " [1.2549942e+00 1.2527812e+00 1.2505989e+00 1.2526166e+00 1.5511576e+04\n",
      "  1.2549669e+00 1.2506429e+00 1.2570199e+00 6.5303676e-02]\n",
      " [1.2551117e+00 1.2534016e+00 1.2518098e+00 1.2532513e+00 1.1317666e+04\n",
      "  1.2554035e+00 1.2509683e+00 1.2562306e+00 6.3319944e-02]\n",
      " [1.2547692e+00 1.2538949e+00 1.2532712e+00 1.2538276e+00 4.3156919e+03\n",
      "  1.2556497e+00 1.2516900e+00 1.2553582e+00 6.0574800e-02]\n",
      " [1.2547724e+00 1.2540102e+00 1.2536985e+00 1.2540267e+00 2.7302175e+03\n",
      "  1.2557628e+00 1.2518951e+00 1.2545074e+00 5.7400454e-02]\n",
      " [1.2550696e+00 1.2539022e+00 1.2534229e+00 1.2539686e+00 4.9622144e+03\n",
      "  1.2558484e+00 1.2517008e+00 1.2537142e+00 5.3688463e-02]\n",
      " [1.2559603e+00 1.2541323e+00 1.2531029e+00 1.2541183e+00 9.6670713e+03\n",
      "  1.2562486e+00 1.2512668e+00 1.2530931e+00 4.9254484e-02]]\n",
      "       high      open       low     close        volume      mav1      mav2  \\\n",
      "0  1.252477  1.251936  1.251303  1.251926   3018.945557  1.254065  1.253686   \n",
      "1  1.252022  1.251476  1.250842  1.251490   3163.066406  1.253523  1.252914   \n",
      "2  1.252401  1.251425  1.250461  1.251464   6276.076660  1.253545  1.252211   \n",
      "3  1.253642  1.251988  1.250382  1.251933  11352.547852  1.254171  1.251330   \n",
      "4  1.254994  1.252781  1.250599  1.252617  15511.576172  1.254967  1.250643   \n",
      "5  1.255112  1.253402  1.251810  1.253251  11317.666016  1.255404  1.250968   \n",
      "6  1.254769  1.253895  1.253271  1.253828   4315.691895  1.255650  1.251690   \n",
      "7  1.254772  1.254010  1.253698  1.254027   2730.217529  1.255763  1.251895   \n",
      "8  1.255070  1.253902  1.253423  1.253969   4962.214355  1.255848  1.251701   \n",
      "9  1.255960  1.254132  1.253103  1.254118   9667.071289  1.256249  1.251267   \n",
      "\n",
      "       mav3    DiffBB  \n",
      "0  1.259933  0.066042  \n",
      "1  1.259187  0.067737  \n",
      "2  1.258521  0.068345  \n",
      "3  1.257767  0.066792  \n",
      "4  1.257020  0.065304  \n",
      "5  1.256231  0.063320  \n",
      "6  1.255358  0.060575  \n",
      "7  1.254507  0.057400  \n",
      "8  1.253714  0.053688  \n",
      "9  1.253093  0.049254  \n",
      "       high      open       low     close      volume      mav1      mav2  \\\n",
      "0  1.252477  1.251936  1.251303  1.251926   3018.9456  1.254065  1.253686   \n",
      "1  1.252022  1.251476  1.250843  1.251490   3163.0664  1.253523  1.252914   \n",
      "2  1.252401  1.251425  1.250460  1.251464   6276.0767  1.253545  1.252211   \n",
      "3  1.253642  1.251988  1.250382  1.251933  11352.5480  1.254171  1.251330   \n",
      "4  1.254994  1.252781  1.250599  1.252617  15511.5760  1.254967  1.250643   \n",
      "5  1.255112  1.253402  1.251810  1.253251  11317.6660  1.255403  1.250968   \n",
      "6  1.254769  1.253895  1.253271  1.253828   4315.6920  1.255650  1.251690   \n",
      "7  1.254772  1.254010  1.253699  1.254027   2730.2175  1.255763  1.251895   \n",
      "8  1.255070  1.253902  1.253423  1.253969   4962.2144  1.255848  1.251701   \n",
      "9  1.255960  1.254132  1.253103  1.254118   9667.0710  1.256249  1.251267   \n",
      "\n",
      "       mav3    DiffBB  \n",
      "0  1.259932  0.066042  \n",
      "1  1.259187  0.067737  \n",
      "2  1.258521  0.068345  \n",
      "3  1.257767  0.066792  \n",
      "4  1.257020  0.065304  \n",
      "5  1.256231  0.063320  \n",
      "6  1.255358  0.060575  \n",
      "7  1.254507  0.057400  \n",
      "8  1.253714  0.053688  \n",
      "9  1.253093  0.049254  \n"
     ]
    }
   ],
   "source": [
    "new_data=scaler.inverse_transform(X[0][(step_back-n_steps):])\n",
    "print(new_data)\n",
    "new_data= pd.DataFrame(new_data, columns=['high','open','low','close','volume', 'mav1', 'mav2', 'mav3', 'DiffBB'])\n",
    "print(new_data)\n",
    "new_data.to_csv('new_data.csv', index=False)\n",
    "new_data = pd.read_csv('new_data.csv')\n",
    "print(new_data)"
   ]
  }
 ],
 "metadata": {
  "kernelspec": {
   "display_name": "Python 3",
   "language": "python",
   "name": "python3"
  },
  "language_info": {
   "codemirror_mode": {
    "name": "ipython",
    "version": 3
   },
   "file_extension": ".py",
   "mimetype": "text/x-python",
   "name": "python",
   "nbconvert_exporter": "python",
   "pygments_lexer": "ipython3",
   "version": "3.8.8"
  }
 },
 "nbformat": 4,
 "nbformat_minor": 5
}
