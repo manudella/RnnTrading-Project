{
 "cells": [
  {
   "cell_type": "code",
   "execution_count": 1,
   "id": "01102efd",
   "metadata": {},
   "outputs": [],
   "source": [
    "from datetime import datetime\n",
    "import math\n",
    "import matplotlib.pyplot as plt\n",
    "import mplfinance as mpf\n",
    "import numpy as np\n",
    "import os\n",
    "import pandas as pd\n",
    "from sklearn.preprocessing import MinMaxScaler\n",
    "from tensorflow import keras\n",
    "import tensorflow as tf"
   ]
  },
  {
   "cell_type": "code",
   "execution_count": 2,
   "id": "e2abbc91",
   "metadata": {},
   "outputs": [],
   "source": [
    "candles = pd.read_csv('usdcad m15 01122020 06012022.csv')\n",
    "candles['time'] = pd.to_datetime(candles['time'])\n",
    "candles.set_index('time', inplace=True)"
   ]
  },
  {
   "cell_type": "code",
   "execution_count": 3,
   "id": "c4135641",
   "metadata": {},
   "outputs": [],
   "source": [
    "#mav\n",
    "mean = candles['close']\n",
    "mav1 = mean.rolling(window=5).mean()\n",
    "mav2 = mean.rolling(window=10).mean()\n",
    "mav3 = mean.rolling(window=25).mean()\n",
    "\n",
    "candles['mav1'] = mav1 \n",
    "candles['mav2'] = mav2 \n",
    "candles['mav3'] = mav3"
   ]
  },
  {
   "cell_type": "code",
   "execution_count": 9,
   "id": "57c9b21d",
   "metadata": {},
   "outputs": [
    {
     "name": "stdout",
     "output_type": "stream",
     "text": [
      "                        open     high      low    close  vol      mav1  \\\n",
      "time                                                                     \n",
      "2020-12-01 00:00:00  1.29968  1.30078  1.29967  1.30027    0       NaN   \n",
      "2020-12-01 00:15:00  1.30027  1.30055  1.30003  1.30005    0       NaN   \n",
      "2020-12-01 00:30:00  1.30005  1.30040  1.29997  1.30006    0       NaN   \n",
      "2020-12-01 00:45:00  1.30006  1.30020  1.29998  1.30012    0       NaN   \n",
      "2020-12-01 01:00:00  1.30007  1.30019  1.29970  1.30006    0  1.300112   \n",
      "...                      ...      ...      ...      ...  ...       ...   \n",
      "2022-01-06 10:15:00  1.28000  1.28112  1.27992  1.28082    0  1.280056   \n",
      "2022-01-06 10:30:00  1.28082  1.28113  1.28000  1.28113    0  1.280348   \n",
      "2022-01-06 10:45:00  1.28113  1.28133  1.28035  1.28041    0  1.280560   \n",
      "2022-01-06 11:00:00  1.28041  1.28070  1.27998  1.28021    0  1.280514   \n",
      "2022-01-06 11:15:00  1.28019  1.28019  1.27893  1.27906    0  1.280326   \n",
      "\n",
      "                         mav2      mav3    DiffBB  \n",
      "time                                               \n",
      "2020-12-01 00:00:00       NaN       NaN       NaN  \n",
      "2020-12-01 00:15:00       NaN       NaN       NaN  \n",
      "2020-12-01 00:30:00       NaN       NaN       NaN  \n",
      "2020-12-01 00:45:00       NaN       NaN       NaN  \n",
      "2020-12-01 01:00:00       NaN       NaN       NaN  \n",
      "...                       ...       ...       ...  \n",
      "2022-01-06 10:15:00  1.279826  1.278869  0.010275  \n",
      "2022-01-06 10:30:00  1.280019  1.279012  0.010684  \n",
      "2022-01-06 10:45:00  1.280122  1.279140  0.010602  \n",
      "2022-01-06 11:00:00  1.280228  1.279280  0.010152  \n",
      "2022-01-06 11:15:00  1.280123  1.279359  0.009505  \n",
      "\n",
      "[27340 rows x 9 columns]\n"
     ]
    }
   ],
   "source": [
    "#bollinger\n",
    "mean = candles['close']\n",
    "mean = mean.rolling(window=10).mean()\n",
    "\n",
    "std_dev = candles['close']\n",
    "std_dev = std_dev.rolling(window=30).std()\n",
    "\n",
    "UBB = mean + (4 * std_dev)\n",
    "LBB = mean - (4 * std_dev)\n",
    "DiffBB = UBB - LBB\n",
    "candles['DiffBB']=DiffBB\n",
    "print(candles)"
   ]
  },
  {
   "cell_type": "code",
   "execution_count": 11,
   "id": "8210e526",
   "metadata": {},
   "outputs": [],
   "source": [
    "scaler = MinMaxScaler(feature_range=(0.2, 0.8))\n",
    "candles_norm = scaler.fit_transform(candles)"
   ]
  },
  {
   "cell_type": "code",
   "execution_count": 12,
   "id": "4ac45bb7",
   "metadata": {},
   "outputs": [
    {
     "name": "stdout",
     "output_type": "stream",
     "text": [
      "[[0.77922496 0.77612394 0.77928952 ... 0.78345936 0.79499748 0.29601758]\n",
      " [0.77856064 0.77667072 0.77947067 ... 0.78313925 0.79439135 0.29149236]\n",
      " [0.77856064 0.77618469 0.77892724 ... 0.78294227 0.79378018 0.28554633]\n",
      " ...\n",
      " [0.68440866 0.68183475 0.68117138 ... 0.68030656 0.67914738 0.31328351]\n",
      " [0.68006039 0.67800729 0.67893731 ... 0.68095907 0.6800327  0.30784103]\n",
      " [0.67873176 0.67490887 0.67259736 ... 0.68031271 0.68052817 0.30001746]]\n"
     ]
    }
   ],
   "source": [
    "#rimozione nan def\n",
    "candles_norm = candles_norm[30:]\n",
    "print(candles_norm)"
   ]
  },
  {
   "cell_type": "code",
   "execution_count": 13,
   "id": "721fa112",
   "metadata": {},
   "outputs": [],
   "source": [
    "#dataset building\n",
    "x_candles = []\n",
    "x_time = []\n",
    "y = []\n",
    "\n",
    "step_back = 48\n",
    "\n",
    "for i in range(len(candles_norm) - step_back):\n",
    "    example_candles = []\n",
    "    example_time = []\n",
    "    \n",
    "    for o in range(0, step_back):\n",
    "        example_candles.append(candles_norm[i + o])\n",
    "        t = candles.iloc[30 + i + o].name\n",
    "        example_time.append([t.hour / 24, t.weekday() / 7])\n",
    "    \n",
    "    x_candles.append(example_candles)\n",
    "    x_time.append(example_time)\n"
   ]
  },
  {
   "cell_type": "code",
   "execution_count": 14,
   "id": "ffe2c734",
   "metadata": {},
   "outputs": [],
   "source": [
    "for i in range(int(len(candles_norm))-1):\n",
    "    if i<3000:\n",
    "        y.append(1)\n",
    "    else:\n",
    "        y.append(0)"
   ]
  },
  {
   "cell_type": "code",
   "execution_count": 15,
   "id": "6f978c65",
   "metadata": {},
   "outputs": [],
   "source": [
    "split_point = int(len(x_candles) * 0.9)\n",
    "\n",
    "x_train_candles = np.asarray(x_candles[:split_point], dtype=np.float32)\n",
    "x_train_time = np.asarray(x_time[:split_point], dtype=np.float32)\n",
    "\n",
    "y_train=[]\n",
    "y_test=[]\n",
    "for i in range(int(len(x_train_candles))):\n",
    "    if i<=(len(x_train_candles)/2):\n",
    "        np.asarray(y_train.append([1]))\n",
    "    else:\n",
    "        np.asarray(y_train.append([0]))\n",
    "y_train=np.array(y_train)\n",
    "\n",
    "x_test_candles = np.asarray(x_candles[split_point:], dtype=np.float32)\n",
    "x_test_time = np.asarray(x_time[split_point:], dtype=np.float32)\n",
    "\n",
    "for i in range(int(len(x_test_candles))):\n",
    "    if i<=(len(x_test_candles)/2):\n",
    "        np.asarray(y_test.append([1]))\n",
    "    else:\n",
    "        np.asarray(y_test.append([0]))\n",
    "y_test=np.array(y_test)\n",
    "\n",
    "last_point= (int(len(x_test_candles))-1)\n",
    "x_trial_candles =x_test_candles[last_point:]\n",
    "x_trial_time = x_test_time[last_point:]\n"
   ]
  },
  {
   "cell_type": "code",
   "execution_count": 16,
   "id": "535d9a96",
   "metadata": {},
   "outputs": [
    {
     "name": "stdout",
     "output_type": "stream",
     "text": [
      "Model: \"model\"\n",
      "__________________________________________________________________________________________________\n",
      " Layer (type)                   Output Shape         Param #     Connected to                     \n",
      "==================================================================================================\n",
      " Candles (InputLayer)           [(None, 48, 9)]      0           []                               \n",
      "                                                                                                  \n",
      " conv1d (Conv1D)                (None, 48, 32)       896         ['Candles[0][0]']                \n",
      "                                                                                                  \n",
      " conv1d_2 (Conv1D)              (None, 48, 32)       2048        ['Candles[0][0]']                \n",
      "                                                                                                  \n",
      " conv1d_4 (Conv1D)              (None, 48, 32)       3776        ['Candles[0][0]']                \n",
      "                                                                                                  \n",
      " average_pooling1d (AveragePool  (None, 24, 32)      0           ['conv1d[0][0]']                 \n",
      " ing1D)                                                                                           \n",
      "                                                                                                  \n",
      " average_pooling1d_2 (AveragePo  (None, 24, 32)      0           ['conv1d_2[0][0]']               \n",
      " oling1D)                                                                                         \n",
      "                                                                                                  \n",
      " average_pooling1d_4 (AveragePo  (None, 24, 32)      0           ['conv1d_4[0][0]']               \n",
      " oling1D)                                                                                         \n",
      "                                                                                                  \n",
      " conv1d_1 (Conv1D)              (None, 24, 64)       6208        ['average_pooling1d[0][0]']      \n",
      "                                                                                                  \n",
      " conv1d_3 (Conv1D)              (None, 24, 64)       14400       ['average_pooling1d_2[0][0]']    \n",
      "                                                                                                  \n",
      " conv1d_5 (Conv1D)              (None, 24, 64)       26688       ['average_pooling1d_4[0][0]']    \n",
      "                                                                                                  \n",
      " average_pooling1d_1 (AveragePo  (None, 12, 64)      0           ['conv1d_1[0][0]']               \n",
      " oling1D)                                                                                         \n",
      "                                                                                                  \n",
      " average_pooling1d_3 (AveragePo  (None, 12, 64)      0           ['conv1d_3[0][0]']               \n",
      " oling1D)                                                                                         \n",
      "                                                                                                  \n",
      " average_pooling1d_5 (AveragePo  (None, 12, 64)      0           ['conv1d_5[0][0]']               \n",
      " oling1D)                                                                                         \n",
      "                                                                                                  \n",
      " Time (InputLayer)              [(None, 48, 2)]      0           []                               \n",
      "                                                                                                  \n",
      " lstm (LSTM)                    (None, 12, 64)       33024       ['average_pooling1d_1[0][0]']    \n",
      "                                                                                                  \n",
      " lstm_2 (LSTM)                  (None, 12, 64)       33024       ['average_pooling1d_3[0][0]']    \n",
      "                                                                                                  \n",
      " lstm_4 (LSTM)                  (None, 12, 64)       33024       ['average_pooling1d_5[0][0]']    \n",
      "                                                                                                  \n",
      " lstm_6 (LSTM)                  (None, 48, 8)        352         ['Time[0][0]']                   \n",
      "                                                                                                  \n",
      " lstm_1 (LSTM)                  (None, 64)           33024       ['lstm[0][0]']                   \n",
      "                                                                                                  \n",
      " lstm_3 (LSTM)                  (None, 64)           33024       ['lstm_2[0][0]']                 \n",
      "                                                                                                  \n",
      " lstm_5 (LSTM)                  (None, 64)           33024       ['lstm_4[0][0]']                 \n",
      "                                                                                                  \n",
      " lstm_7 (LSTM)                  (None, 8)            544         ['lstm_6[0][0]']                 \n",
      "                                                                                                  \n",
      " concatenate (Concatenate)      (None, 200)          0           ['lstm_1[0][0]',                 \n",
      "                                                                  'lstm_3[0][0]',                 \n",
      "                                                                  'lstm_5[0][0]',                 \n",
      "                                                                  'lstm_7[0][0]']                 \n",
      "                                                                                                  \n",
      " dense (Dense)                  (None, 128)          25728       ['concatenate[0][0]']            \n",
      "                                                                                                  \n",
      " dense_1 (Dense)                (None, 128)          16512       ['dense[0][0]']                  \n",
      "                                                                                                  \n",
      " dense_2 (Dense)                (None, 1)            129         ['dense_1[0][0]']                \n",
      "                                                                                                  \n",
      "==================================================================================================\n",
      "Total params: 295,425\n",
      "Trainable params: 295,425\n",
      "Non-trainable params: 0\n",
      "__________________________________________________________________________________________________\n",
      "('You must install pydot (`pip install pydot`) and install graphviz (see instructions at https://graphviz.gitlab.io/download/) ', 'for plot_model/model_to_dot to work.')\n"
     ]
    }
   ],
   "source": [
    "def get_conv_lstm_block(input, kernel_size_1, kernel_size_2):\n",
    "    conv_1 = keras.layers.Conv1D(\n",
    "        filters=32,\n",
    "        kernel_size=kernel_size_1,\n",
    "        activation=keras.activations.swish,\n",
    "        padding='same'\n",
    "    )(input)\n",
    "    average_1 = keras.layers.AveragePooling1D()(conv_1)\n",
    "    \n",
    "    conv_2 = keras.layers.Conv1D(\n",
    "        filters=64,\n",
    "        kernel_size=kernel_size_2,\n",
    "        activation=keras.activations.swish,\n",
    "        padding='same'\n",
    "    )(average_1)\n",
    "    average_2 = keras.layers.AveragePooling1D()(conv_2)\n",
    "    \n",
    "    lstm_1 = keras.layers.LSTM(units=64, return_sequences=True)(average_2)\n",
    "    lstm_2 = keras.layers.LSTM(units=64)(lstm_1)\n",
    "    \n",
    "    return lstm_2\n",
    "\n",
    "\n",
    "input_candles = keras.Input(shape=(x_train_candles.shape[1], x_train_candles.shape[2]), name='Candles')\n",
    "input_time = keras.Input(shape=(x_train_time.shape[1], x_train_time.shape[2]), name='Time')\n",
    "\n",
    "conv_1 = get_conv_lstm_block(input_candles, kernel_size_1=3, kernel_size_2=3)\n",
    "conv_2 = get_conv_lstm_block(input_candles, kernel_size_1=7, kernel_size_2=7)\n",
    "conv_3 = get_conv_lstm_block(input_candles, kernel_size_1=13, kernel_size_2=13)\n",
    "\n",
    "lstm_time_1 = keras.layers.LSTM(units=8, return_sequences=True)(input_time)\n",
    "lstm_time_2 = keras.layers.LSTM(units=8)(lstm_time_1)\n",
    "\n",
    "conc = keras.layers.Concatenate(axis=-1)([conv_1, conv_2, conv_3, lstm_time_2])\n",
    "\n",
    "dense_1 = keras.layers.Dense(units=128, activation=keras.activations.sigmoid)(conc)\n",
    "dense_2 = keras.layers.Dense(units=128, activation=keras.activations.sigmoid)(dense_1)\n",
    "\n",
    "output = keras.layers.Dense(units=1, activation=keras.activations.linear)(dense_2)\n",
    "\n",
    "model = keras.Model(inputs=[input_candles, input_time], outputs=output)\n",
    "\n",
    "model.compile(optimizer=keras.optimizers.Adam(), loss=keras.losses.mean_absolute_error)\n",
    "\n",
    "model.summary()\n",
    "keras.utils.plot_model(model, \"conv_lstm_net.png\", show_shapes=True)"
   ]
  },
  {
   "cell_type": "code",
   "execution_count": 18,
   "id": "c58aabf7",
   "metadata": {},
   "outputs": [
    {
     "name": "stdout",
     "output_type": "stream",
     "text": [
      "Epoch 1/7\n",
      "767/767 [==============================] - 29s 38ms/step - loss: 0.3818 - val_loss: 0.5318\n",
      "Epoch 2/7\n",
      "767/767 [==============================] - 27s 35ms/step - loss: 0.3920 - val_loss: 0.5106\n",
      "Epoch 3/7\n",
      "767/767 [==============================] - 27s 35ms/step - loss: 0.3824 - val_loss: 0.5113\n",
      "Epoch 4/7\n",
      "767/767 [==============================] - 28s 36ms/step - loss: 0.4253 - val_loss: 0.5286\n",
      "Epoch 5/7\n",
      "767/767 [==============================] - 27s 36ms/step - loss: 0.3908 - val_loss: 0.5648\n",
      "Epoch 6/7\n",
      "767/767 [==============================] - 28s 37ms/step - loss: 0.3651 - val_loss: 0.5331\n",
      "Epoch 7/7\n",
      "767/767 [==============================] - 29s 38ms/step - loss: 0.3602 - val_loss: 0.4978\n"
     ]
    },
    {
     "data": {
      "text/plain": [
       "<tensorflow.python.training.tracking.util.CheckpointLoadStatus at 0x1f54eb281c0>"
      ]
     },
     "execution_count": 18,
     "metadata": {},
     "output_type": "execute_result"
    }
   ],
   "source": [
    "model_checkpoint_callback = tf.keras.callbacks.ModelCheckpoint(\n",
    "    filepath='weights2/weights',\n",
    "    save_weights_only=True,\n",
    "    monitor='loss',\n",
    "    mode='min',\n",
    "    save_best_only=True)\n",
    "\n",
    "history = model.fit(\n",
    "    [x_train_candles, x_train_time],\n",
    "    y_train,\n",
    "    epochs=7,\n",
    "    batch_size=32,\n",
    "    validation_data=(\n",
    "        [x_test_candles, x_test_time],\n",
    "        y_test\n",
    "    ),\n",
    "    callbacks=model_checkpoint_callback\n",
    ")\n",
    "\n",
    "model.load_weights('weights2/weights')"
   ]
  },
  {
   "cell_type": "code",
   "execution_count": 19,
   "id": "d83d3335",
   "metadata": {},
   "outputs": [
    {
     "data": {
      "image/png": "[encoded data removed]",
      "text/plain": [
       "<Figure size 432x288 with 1 Axes>"
      ]
     },
     "metadata": {
      "needs_background": "light"
     },
     "output_type": "display_data"
    }
   ],
   "source": [
    "plt.plot(history.history['loss'], label='Loss')\n",
    "plt.plot(history.history['val_loss'], label='Val.Loss')\n",
    "plt.legend(loc=\"upper right\")\n",
    "plt.show()"
   ]
  },
  {
   "cell_type": "code",
   "execution_count": 20,
   "id": "95dbcae2",
   "metadata": {},
   "outputs": [],
   "source": [
    "preds = model.predict([x_test_candles, x_test_time],batch_size=32)\n",
    "\n",
    "y_test3 = []\n",
    "preds3 = []\n",
    "for n in range(len(y_test)):\n",
    "    y_test3.append(y_test[n])\n",
    "    preds3.append(preds[n])"
   ]
  },
  {
   "cell_type": "code",
   "execution_count": 21,
   "id": "89718c67",
   "metadata": {},
   "outputs": [
    {
     "data": {
      "image/png": "[encoded data removed]",
      "text/plain": [
       "<Figure size 432x288 with 1 Axes>"
      ]
     },
     "metadata": {
      "needs_background": "light"
     },
     "output_type": "display_data"
    }
   ],
   "source": [
    "plt.plot(np.asarray(preds), color='orange', label='predictions')\n",
    "plt.plot(np.asarray(y_test), color='green', alpha=0.5, label='real data')\n",
    "plt.legend()\n",
    "plt.show()"
   ]
  }
 ],
 "metadata": {
  "kernelspec": {
   "display_name": "Python 3",
   "language": "python",
   "name": "python3"
  },
  "language_info": {
   "codemirror_mode": {
    "name": "ipython",
    "version": 3
   },
   "file_extension": ".py",
   "mimetype": "text/x-python",
   "name": "python",
   "nbconvert_exporter": "python",
   "pygments_lexer": "ipython3",
   "version": "3.8.8"
  }
 },
 "nbformat": 4,
 "nbformat_minor": 5
}
